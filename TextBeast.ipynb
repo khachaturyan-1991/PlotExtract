{
 "cells": [
  {
   "cell_type": "markdown",
   "metadata": {},
   "source": [
    "# Libs"
   ]
  },
  {
   "cell_type": "code",
   "execution_count": 2,
   "metadata": {},
   "outputs": [],
   "source": [
    "import numpy as np\n",
    "import matplotlib.pyplot as plt\n",
    "import random\n",
    "import pandas as pd\n",
    "\n",
    "import torch\n",
    "from torch import nn\n",
    "import torch.nn.functional as F\n",
    "from torch.utils.data import Dataset, DataLoader\n",
    "from torchvision import transforms\n",
    "\n",
    "import seaborn\n",
    "import cv2\n",
    "\n",
    "from sklearn.cluster import KMeans\n",
    "from scipy.optimize import linear_sum_assignment\n",
    "\n",
    "import os\n",
    "import glob\n",
    "import tqdm\n",
    "\n",
    "from sklearn.cluster import DBSCAN\n",
    "from sklearn.cluster import KMeans\n",
    "\n",
    "from io import BytesIO\n",
    "from PIL import Image"
   ]
  },
  {
   "cell_type": "code",
   "execution_count": 3,
   "metadata": {},
   "outputs": [
    {
     "ename": "ModuleNotFoundError",
     "evalue": "No module named 'data.data'",
     "output_type": "error",
     "traceback": [
      "\u001b[0;31m---------------------------------------------------------------------------\u001b[0m",
      "\u001b[0;31mModuleNotFoundError\u001b[0m                       Traceback (most recent call last)",
      "Cell \u001b[0;32mIn[3], line 2\u001b[0m\n\u001b[1;32m      1\u001b[0m \u001b[38;5;28;01mfrom\u001b[39;00m \u001b[38;5;21;01mmodels_zoo\u001b[39;00m\u001b[38;5;21;01m.\u001b[39;00m\u001b[38;5;21;01munet\u001b[39;00m \u001b[38;5;28;01mimport\u001b[39;00m UNet\n\u001b[0;32m----> 2\u001b[0m \u001b[38;5;28;01mfrom\u001b[39;00m \u001b[38;5;21;01mdata\u001b[39;00m\u001b[38;5;21;01m.\u001b[39;00m\u001b[38;5;21;01mdata\u001b[39;00m \u001b[38;5;28;01mimport\u001b[39;00m create_dataloader\n\u001b[1;32m      3\u001b[0m \u001b[38;5;28;01mfrom\u001b[39;00m \u001b[38;5;21;01mutils\u001b[39;00m \u001b[38;5;28;01mimport\u001b[39;00m load_model\n",
      "\u001b[0;31mModuleNotFoundError\u001b[0m: No module named 'data.data'"
     ]
    }
   ],
   "source": [
    "from models_zoo.unet import UNet\n",
    "from data.data import create_dataloader\n",
    "from utils import load_model"
   ]
  },
  {
   "cell_type": "code",
   "execution_count": null,
   "metadata": {},
   "outputs": [],
   "source": [
    "%matplotlib inline"
   ]
  },
  {
   "cell_type": "markdown",
   "metadata": {},
   "source": [
    "# DataGen"
   ]
  },
  {
   "cell_type": "code",
   "execution_count": 1445,
   "metadata": {},
   "outputs": [],
   "source": [
    "# DataGen replication with axes and lables separation\n",
    "\n",
    "class GenerateDataset(Dataset):\n",
    "    def __init__(self, num_samples, transform=None, tolerances=[80, 30], img_size=128, fig_size=5):\n",
    "        self.num_samples = num_samples\n",
    "        self.transform = transform\n",
    "        self.tolerance = tolerances\n",
    "        self.img_size = (img_size, img_size)\n",
    "        self.fig_size = (fig_size, fig_size)\n",
    "\n",
    "    def __len__(self):\n",
    "        return self.num_samples\n",
    "\n",
    "    def within_tolerance(self, img, color, tol):\n",
    "        return np.all(np.abs(img - np.array(color) * 255) <= tol, axis=-1)\n",
    "\n",
    "    def create_mask_with_squares(self, image, square_size=12):\n",
    "        # Create a blank mask of the same size as the input image\n",
    "        mask = np.zeros_like(image, dtype=np.uint8)\n",
    "\n",
    "        # Find connected components (labels each connected group of pixels)\n",
    "        print(\"Image property: \", image.shape, type(image), image.max(), image.min())\n",
    "        num_labels, labels, stats, centroids = cv2.connectedComponentsWithStats(image)\n",
    "\n",
    "        # Calculate the half size of the square to center it on each tick/number\n",
    "        half_size = square_size // 2\n",
    "\n",
    "        # Loop through each centroid and draw a square\n",
    "        for (x, y) in centroids[1:]:  # Skipping the first centroid (background)\n",
    "            x, y = int(x), int(y)\n",
    "            top_left = (max(0, x - half_size), max(0, y - half_size))\n",
    "            bottom_right = (min(mask.shape[1], x + half_size), min(mask.shape[0], y + half_size))\n",
    "            cv2.rectangle(mask, top_left, bottom_right, (255, 255, 255), thickness=-1)\n",
    "\n",
    "        return mask\n",
    "\n",
    "    def __getitem__(self, idx):\n",
    "\n",
    "        x = np.linspace(-2, 2, 100)\n",
    "\n",
    "        fig, ax = plt.subplots(figsize=self.fig_size)\n",
    "        ax.set_xlim(-2, 2)\n",
    "        ax.set_ylim(-10, 10)\n",
    "\n",
    "        axes_color = [0.0, 0.0, 0.0]\n",
    "        axes_labels = [1.0, 0.0, 0.0]\n",
    "        axes_ticks = [0.0, 0.0, 1.0]\n",
    "\n",
    "        N_OF_PLOTS = 2\n",
    "        coefs, line_colors = {}, {}\n",
    "        for i in range(N_OF_PLOTS):\n",
    "            coefs[i] = np.random.uniform(-8, 8, 3)\n",
    "            y = np.poly1d(coefs[i])\n",
    "            line_colors[i] = np.random.uniform(0, 1, 3).round(2)\n",
    "            ax.plot(x, y(x), color=line_colors[i])\n",
    "\n",
    "        ax.tick_params(axis='x', colors='red')\n",
    "        ax.tick_params(axis='y', colors='red')\n",
    "        ax.tick_params(axis='x', which='both', color='blue')\n",
    "        ax.tick_params(axis='y', which='both', color='blue')\n",
    "        ax.spines['top'].set_visible(False)\n",
    "        ax.spines['right'].set_visible(False)\n",
    "\n",
    "        fig.canvas.draw()\n",
    "        image = np.array(fig.canvas.renderer.buffer_rgba())\n",
    "        plt.close(fig)\n",
    "\n",
    "        image = image[:, :, :3]\n",
    "\n",
    "        axes_mask = np.zeros(image.shape[:2], dtype=np.uint8)\n",
    "        tick_mask = np.zeros(image.shape[:2], dtype=np.uint8)\n",
    "        label_mask = np.zeros(image.shape[:2], dtype=np.uint8)\n",
    "        plot_mask = np.zeros(image.shape[:2], dtype=np.uint8)\n",
    "\n",
    "        axes_mask[self.within_tolerance(image, axes_color, self.tolerance[0])] = 1\n",
    "        label_mask[self.within_tolerance(image, axes_labels, self.tolerance[0])] = 1\n",
    "        label_mask = self.create_mask_with_squares(label_mask)\n",
    "        for i in range(N_OF_PLOTS):\n",
    "            plot_mask[self.within_tolerance(image, line_colors[i], self.tolerance[1])] = 1\n",
    "\n",
    "        mask = np.stack((axes_mask, label_mask, plot_mask), axis=0)\n",
    "\n",
    "        image = torch.from_numpy(image).permute(2, 0, 1).float() / 255.0\n",
    "        mask = torch.from_numpy(mask).long()\n",
    "\n",
    "        image = F.interpolate(image.unsqueeze(0), size=self.img_size, mode='bilinear', align_corners=False).squeeze(0)\n",
    "        mask = F.interpolate(mask.unsqueeze(0).float(), size=self.img_size, mode='nearest').squeeze(0).long()\n",
    "\n",
    "        return image, mask, coefs\n",
    "\n",
    "def create_mask_with_squares(image, square_size=12):\n",
    "    # Create a blank mask of the same size as the input image\n",
    "    mask = np.zeros_like(image, dtype=np.uint8)\n",
    "\n",
    "    # Find connected components (labels each connected group of pixels)\n",
    "    print(\"Image property: \", image.shape, type(image), image.max(), image.min())\n",
    "    num_labels, labels, stats, centroids = cv2.connectedComponentsWithStats(image)\n",
    "\n",
    "    # Calculate the half size of the square to center it on each tick/number\n",
    "    half_size = square_size // 2\n",
    "\n",
    "    # Loop through each centroid and draw a square\n",
    "    for (x, y) in centroids[1:]:  # Skipping the first centroid (background)\n",
    "        x, y = int(x), int(y)\n",
    "        top_left = (max(0, x - half_size), max(0, y - half_size))\n",
    "        bottom_right = (min(mask.shape[1], x + half_size), min(mask.shape[0], y + half_size))\n",
    "        cv2.rectangle(mask, top_left, bottom_right, (255, 255, 255), thickness=-1)\n",
    "    return mask"
   ]
  },
  {
   "cell_type": "code",
   "execution_count": 1447,
   "metadata": {},
   "outputs": [],
   "source": [
    "dataset = GenerateDataset(num_samples=4, img_size=300, fig_size=4, tolerances=[90, 20])"
   ]
  },
  {
   "cell_type": "code",
   "execution_count": 1457,
   "metadata": {},
   "outputs": [
    {
     "name": "stdout",
     "output_type": "stream",
     "text": [
      "Image property:  (400, 400) <class 'numpy.ndarray'> 1 0\n"
     ]
    }
   ],
   "source": [
    "for img, mask, c in dataset:\n",
    "    break"
   ]
  },
  {
   "cell_type": "code",
   "execution_count": 1459,
   "metadata": {},
   "outputs": [
    {
     "data": {
      "image/png": "[encoded data removed]",
      "text/plain": [
       "<Figure size 1200x800 with 4 Axes>"
      ]
     },
     "metadata": {},
     "output_type": "display_data"
    }
   ],
   "source": [
    "_, ax = plt.subplots(1, 4, figsize = (12, 8))\n",
    "ax[0].imshow(np.transpose(img, (1,2,0)))\n",
    "ax[1].imshow(mask[0])\n",
    "ax[1].axis(\"off\")\n",
    "ax[2].imshow(mask[1])\n",
    "ax[2].axis(\"off\")\n",
    "ax[3].imshow(mask[2])\n",
    "ax[3].axis(\"off\")\n",
    "plt.show()\n",
    "original_img = img[1].numpy().copy()"
   ]
  },
  {
   "cell_type": "code",
   "execution_count": 1461,
   "metadata": {},
   "outputs": [
    {
     "name": "stdout",
     "output_type": "stream",
     "text": [
      "Image property:  (300, 300) <class 'numpy.ndarray'> 255 0\n"
     ]
    },
    {
     "data": {
      "image/png": "[encoded data removed]",
      "text/plain": [
       "<Figure size 640x480 with 2 Axes>"
      ]
     },
     "metadata": {},
     "output_type": "display_data"
    }
   ],
   "source": [
    "# based on mask need to fined each digit coordinates\n",
    "\n",
    "ticks_img = mask[1].numpy()\n",
    "ticks_img = np.array(ticks_img, dtype=np.uint8)\n",
    "square = create_mask_with_squares(ticks_img, square_size=8)\n",
    "\n",
    "# Display the mask\n",
    "_, ax = plt.subplots(1, 2)\n",
    "ax[0].imshow(square, cmap='gray')\n",
    "w_s = [270, 90, 20]\n",
    "w_s = [260, 0, 20]\n",
    "ax[1].imshow(np.transpose(img, (1,2,0))[w_s[0]:w_s[0] + w_s[2],w_s[1]:w_s[1] + w_s[2]])\n",
    "plt.show()"
   ]
  },
  {
   "cell_type": "code",
   "execution_count": 1463,
   "metadata": {},
   "outputs": [
    {
     "data": {
      "text/plain": [
       "<matplotlib.collections.PathCollection at 0x684f862d0>"
      ]
     },
     "execution_count": 1463,
     "metadata": {},
     "output_type": "execute_result"
    },
    {
     "data": {
      "image/png": "[encoded data removed]",
      "text/plain": [
       "<Figure size 640x480 with 1 Axes>"
      ]
     },
     "metadata": {},
     "output_type": "display_data"
    }
   ],
   "source": [
    "def estimate_cluster_num(binary_mask, eps=2, min_samples=1):\n",
    "    y, x = np.where(binary_mask)\n",
    "    coordinates = np.column_stack((x, y))\n",
    "    db = DBSCAN(eps=eps, min_samples=min_samples).fit(coordinates)\n",
    "    labels = db.labels_\n",
    "    unique_labels = set(labels)\n",
    "    unique_labels.discard(-1)\n",
    "    return len(unique_labels)\n",
    "\n",
    "def get_cetners(img, n_of_cluster):\n",
    "    y, x = np.where(img)\n",
    "    kmeans = KMeans(n_clusters=n_of_cluster)\n",
    "    kmeans.fit(np.column_stack((x, y)))\n",
    "    return kmeans.cluster_centers_\n",
    "\n",
    "n_samples = estimate_cluster_num(square, eps=2, min_samples=2)\n",
    "centers = get_cetners(square, n_of_cluster = n_samples)\n",
    "plt.imshow(square)\n",
    "plt.scatter(centers[...,0], centers[...,1])"
   ]
  },
  {
   "cell_type": "code",
   "execution_count": 1465,
   "metadata": {},
   "outputs": [],
   "source": [
    "# align positions of detected labesl along lines\n",
    "# make detection equidistant\n",
    "\n",
    "def get_uniform_positions(centers):\n",
    "    coords = []\n",
    "    tol = 10  # adjust\n",
    "    for slice in range(2):\n",
    "        # Determine the minimum or maximum value along the current axis\n",
    "        x_min_y_max = np.min(centers, axis=0) if slice == 0 else np.max(centers, axis=0)\n",
    "        threshold = np.abs(centers[..., slice] - x_min_y_max[slice]) < tol\n",
    "        \n",
    "        # Select the positions close to x_min or y_max\n",
    "        selected_positions = centers[threshold]\n",
    "        \n",
    "        # Align all positions along the mean of the current axis\n",
    "        mean_value = np.mean(selected_positions, axis=0)\n",
    "        selected_positions[..., slice] = int(mean_value[slice])\n",
    "        \n",
    "        # Sort the other axis values and create uniform spacing\n",
    "        sorted_values = np.sort(selected_positions[..., 1 - slice])\n",
    "        spacing = sorted_values - np.roll(sorted_values, 1, axis=0)\n",
    "        spacing = int(np.mean(spacing[1:]))\n",
    "        values_1 = [sorted_values[0] + spacing * i for i in range(len(sorted_values))]\n",
    "        values_2 = [sorted_values[-1] - spacing * i for i in range(len(sorted_values))]\n",
    "        uniform_values = (np.array(values_1) + np.array(values_2)[::-1]) // 2\n",
    "        \n",
    "        # Combine aligned positions with uniform distribution\n",
    "        if slice == 0:\n",
    "            coords.append(np.array([(int(mean_value[slice]), int(v)) for v in uniform_values]))\n",
    "        else:\n",
    "            coords.append(np.array([(int(v), int(mean_value[slice])) for v in uniform_values]))\n",
    "    \n",
    "    # Return both x and y coordinate arrays\n",
    "    return coords[0], coords[1]"
   ]
  },
  {
   "cell_type": "code",
   "execution_count": 1467,
   "metadata": {},
   "outputs": [
    {
     "data": {
      "text/plain": [
       "<matplotlib.collections.PathCollection at 0x45bb8c750>"
      ]
     },
     "execution_count": 1467,
     "metadata": {},
     "output_type": "execute_result"
    },
    {
     "data": {
      "image/png": "[encoded data removed]",
      "text/plain": [
       "<Figure size 640x480 with 2 Axes>"
      ]
     },
     "metadata": {},
     "output_type": "display_data"
    }
   ],
   "source": [
    "x_label, y_label = get_uniform_positions(centers)\n",
    "n_samples = estimate_cluster_num(square, eps=2, min_samples=2)\n",
    "centers = get_cetners(square, n_of_cluster = n_samples)\n",
    "_, ax = plt.subplots(1, 2)\n",
    "ax[0].imshow(np.transpose(img, (1, 2, 0)))\n",
    "ax[0].scatter(x_label[...,0], x_label[...,1])\n",
    "ax[0].scatter(y_label[...,0], y_label[...,1])\n",
    "ax[1].imshow(square)\n",
    "ax[1].scatter(x_label[...,0], x_label[...,1])\n",
    "ax[1].scatter(y_label[...,0], y_label[...,1])"
   ]
  },
  {
   "cell_type": "code",
   "execution_count": 1469,
   "metadata": {},
   "outputs": [
    {
     "data": {
      "image/png": "[encoded data removed]",
      "text/plain": [
       "<Figure size 640x480 with 9 Axes>"
      ]
     },
     "metadata": {},
     "output_type": "display_data"
    }
   ],
   "source": [
    "# crop lables from one of the axes for illustration\n",
    "\n",
    "img_1 = np.copy(img)\n",
    "img_1 = np.transpose(img_1, (1, 2, 0))\n",
    "delta = 15 # to crop\n",
    "_, ax = plt.subplots(3, 3)\n",
    "for i in range(3):\n",
    "    for j in range(3):\n",
    "        frame = x_label[3*i + j]\n",
    "        croped = img_1[frame[1]-delta:frame[1]+delta, frame[0]-delta:frame[0]+delta, :]\n",
    "        croped = cv2.cvtColor(croped, cv2.COLOR_BGR2GRAY)\n",
    "        ax[i][j].imshow(croped)\n",
    "        ax[i][j].axis(\"off\")"
   ]
  },
  {
   "cell_type": "markdown",
   "metadata": {},
   "source": [
    "# LSTM"
   ]
  },
  {
   "cell_type": "code",
   "execution_count": 18,
   "metadata": {},
   "outputs": [],
   "source": [
    "# Test of LSTM\n",
    "\n",
    "# Create an LSTM layer\n",
    "# input_size: Number of expected features in the input (e.g., embedding size or features per time step)\n",
    "# hidden_size: Number of features in the hidden state\n",
    "# num_layers: Number of recurrent layers (stacked LSTMs)\n",
    "# batch_first: If True, the input and output tensors are expected to have shape (batch, seq, feature)\n",
    "lstm = nn.LSTM(input_size=10, hidden_size=20, num_layers=2, batch_first=True)\n",
    "\n",
    "# Generate a random input tensor\n",
    "# Shape: (batch_size, sequence_length, input_size)\n",
    "input_tensor = torch.randn(3, 5, 10)  # Example with batch_size=3, sequence_length=5, input_size=10"
   ]
  },
  {
   "cell_type": "code",
   "execution_count": 625,
   "metadata": {},
   "outputs": [
    {
     "name": "stdout",
     "output_type": "stream",
     "text": [
      "torch.Size([1, 10]) tensor([[-2.2502, -2.3605, -2.3673, -2.2873, -2.2659, -2.3118, -2.2435, -2.2580,\n",
      "         -2.3473, -2.3447]], grad_fn=<LogSoftmaxBackward0>)\n"
     ]
    }
   ],
   "source": [
    "# Simple CRNN\n",
    "\n",
    "class CRNN(nn.Module):\n",
    "    def __init__(self, num_classes=10):\n",
    "        super(CRNN, self).__init__()\n",
    "        \n",
    "        # Define the CNN part\n",
    "        self.cnn = nn.Sequential(\n",
    "            nn.Conv2d(1, 32, kernel_size=3, stride=1, padding=1),  # output: (32, 10, 10)\n",
    "            nn.ReLU(),\n",
    "            nn.MaxPool2d(2, 2),  # output: (32, 5, 5)\n",
    "            \n",
    "            nn.Conv2d(32, 64, kernel_size=3, stride=1, padding=1),  # output: (64, 5, 5)\n",
    "            nn.ReLU(),\n",
    "            nn.MaxPool2d(2, 2)  # output: (64, 2, 2)\n",
    "        )\n",
    "        \n",
    "        # Define the LSTM part\n",
    "        self.rnn = nn.LSTM(input_size=64, hidden_size=128, num_layers=2, bidirectional=True, batch_first=True)\n",
    "        \n",
    "        # Fully connected layer for classification\n",
    "        self.fc = nn.Linear(128 * 2, num_classes)  # num_classes = 10 for digits 0-9\n",
    "        \n",
    "    def forward(self, x):\n",
    "        # Pass through CNN\n",
    "        x = self.cnn(x)  # output: (batch_size, 64, 2, 2)\n",
    "        \n",
    "        # Reshape to (batch_size, sequence_length, features)\n",
    "        x = x.view(x.size(0), 4, 64)  # output: (batch_size, 4, 64)\n",
    "        \n",
    "        # Pass through RNN\n",
    "        x, _ = self.rnn(x)  # output: (batch_size, 4, 256)\n",
    "\n",
    "        # Use only the last output of LSTM for classification\n",
    "        x = x[:, -1, :]  # output: (batch_size, 256)\n",
    "\n",
    "        # Pass through fully connected layer (apply to each sequence element)\n",
    "        x = self.fc(x)  # output: (batch_size, 4, num_classes)\n",
    "        \n",
    "        # Apply softmax to get probabilities\n",
    "        x = F.log_softmax(x, dim=2)  # output: (batch_size, 4, num_classes)\n",
    "        \n",
    "        return x\n",
    "\n",
    "# Example usage\n",
    "model = CRNN(num_classes=10)\n",
    "input_image = torch.rand(1, 1, 10, 10)  # Batch size of 1, 1 channel (grayscale), 10x10 image\n",
    "output = model(input_image)\n",
    "\n",
    "# The output will be a tensor of shape (batch_size, sequence_length, num_classes)\n",
    "print(output.shape)"
   ]
  },
  {
   "cell_type": "code",
   "execution_count": 20,
   "metadata": {},
   "outputs": [
    {
     "name": "stdout",
     "output_type": "stream",
     "text": [
      "Predicted Digits: tensor([[0, 0, 2, 4]])\n",
      "Interpreted Number: [24]\n"
     ]
    }
   ],
   "source": [
    "# Final number extraction\n",
    "\n",
    "# Simulated output tensor for a number \"42\"\n",
    "# Shape: (batch_size, 4, 10), with batch_size = 1 for simplicity\n",
    "output = torch.tensor([\n",
    "    [\n",
    "        [0.1, 0.1, 0.1, 0.1, 0.1, 0.1, 0.1, 0.1, 0.1, 0.1],  # Low confidence for any digit\n",
    "        [0.1, 0.1, 0.1, 0.1, 0.1, 0.1, 0.1, 0.1, 0.1, 0.1],  # Low confidence for any digit\n",
    "        [0.0, 0.1, 0.8, 0.1, 0.0, 0.0, 0.0, 0.0, 0.0, 0.0],  # High confidence for digit 4\n",
    "        [0.1, 0.0, 0.0, 0.0, 0.8, 0.1, 0.0, 0.0, 0.0, 0.0],  # High confidence for digit 2\n",
    "    ]\n",
    "])\n",
    "\n",
    "# Extract predicted digits\n",
    "predicted_digits = torch.argmax(output, dim=2)  # Shape: (batch_size, 4)\n",
    "print(\"Predicted Digits:\", predicted_digits)\n",
    "\n",
    "# Convert to a number (assuming the output should be concatenated)\n",
    "numbers = [int(''.join(map(str, digits.tolist()))) for digits in predicted_digits]\n",
    "print(\"Interpreted Number:\", numbers)"
   ]
  },
  {
   "cell_type": "markdown",
   "metadata": {},
   "source": [
    "# GenerateNumbers"
   ]
  },
  {
   "cell_type": "code",
   "execution_count": 408,
   "metadata": {},
   "outputs": [
    {
     "data": {
      "text/plain": [
       "<matplotlib.image.AxesImage at 0xae31ca310>"
      ]
     },
     "execution_count": 408,
     "metadata": {},
     "output_type": "execute_result"
    },
    {
     "data": {
      "image/png": "[encoded data removed]",
      "text/plain": [
       "<Figure size 640x480 with 1 Axes>"
      ]
     },
     "metadata": {},
     "output_type": "display_data"
    }
   ],
   "source": [
    "# just an example croped from an axis\n",
    "# it will used to calibrate generated images\n",
    "\n",
    "frame = x_label[0]\n",
    "croped = img_1[frame[1]-delta:frame[1]+delta, frame[0]-delta:frame[0]+delta, :]\n",
    "croped = cv2.cvtColor(croped, cv2.COLOR_BGR2GRAY)\n",
    "plt.imshow(croped)"
   ]
  },
  {
   "cell_type": "code",
   "execution_count": 410,
   "metadata": {},
   "outputs": [
    {
     "data": {
      "image/png": "[encoded data removed]",
      "text/plain": [
       "<Figure size 640x480 with 2 Axes>"
      ]
     },
     "metadata": {},
     "output_type": "display_data"
    }
   ],
   "source": [
    "# trying to reproduce using putText\n",
    "# howevere the font does not match\n",
    "\n",
    "image = np.zeros((30, 30), dtype=np.uint8)\n",
    "cv2.putText(image, '10.0', (-2, 15),\n",
    "            cv2.FONT_HERSHEY_SCRIPT_SIMPLEX,\n",
    "            0.32, 255, 1, cv2.LINE_AA)\n",
    "\n",
    "_, ax = plt.subplots(1, 2)\n",
    "\n",
    "ax[0].imshow(croped)\n",
    "ax[0].axis(\"off\")\n",
    "ax[0].set_title(\"croped\")\n",
    "\n",
    "ax[1].imshow(image)\n",
    "ax[1].axis(\"off\")\n",
    "ax[1].set_title(\"generated\")\n",
    "\n",
    "plt.show()"
   ]
  },
  {
   "cell_type": "code",
   "execution_count": 414,
   "metadata": {},
   "outputs": [],
   "source": [
    "# reproducing using matplotlib\n",
    "# the fotn match better\n",
    "\n",
    "def _create_img(num, x_pos, y_pos, font_size):\n",
    "    # Create a figure and axis to generate the image\n",
    "    fig, ax = plt.subplots(figsize=(2 , 2), dpi=30)\n",
    "    ax.text(x_pos, y_pos, f'{num:.1f}', fontsize=font_size, ha='center', va='center')\n",
    "    ax.axis('off')\n",
    "\n",
    "    # Save the plot to a buffer\n",
    "    buf = BytesIO()\n",
    "    plt.savefig(buf, format='png', bbox_inches='tight', pad_inches=0)\n",
    "    buf.seek(0)\n",
    "    plt.close(fig)\n",
    "\n",
    "    # Convert the buffer to an image\n",
    "    img = Image.open(buf)\n",
    "    img = img.convert('L')  # Convert to grayscale\n",
    "    img = np.array(img)\n",
    "    \n",
    "    # Resize and center crop to ensure consistent size\n",
    "    img = cv2.resize(img, (30, 30), interpolation=cv2.INTER_AREA) / 255\n",
    "\n",
    "    return img\n",
    "\n",
    "def to_binary(img):\n",
    "    img[img < .8] = 0\n",
    "    img[img > .8] = 1.0\n",
    "    return img"
   ]
  },
  {
   "cell_type": "code",
   "execution_count": 424,
   "metadata": {},
   "outputs": [
    {
     "data": {
      "text/plain": [
       "Text(0.5, 1.0, '-1.0 | 1.0')"
      ]
     },
     "execution_count": 424,
     "metadata": {},
     "output_type": "execute_result"
    },
    {
     "data": {
      "image/png": "[encoded data removed]",
      "text/plain": [
       "<Figure size 1000x500 with 3 Axes>"
      ]
     },
     "metadata": {},
     "output_type": "display_data"
    }
   ],
   "source": [
    "img = _create_img(10, 0.5, 0.57, 35)\n",
    "\n",
    "_, ax = plt.subplots(1, 3, figsize = (10, 5))\n",
    "ax[0].imshow(to_binary(croped))\n",
    "ax[1].imshow(to_binary(img))\n",
    "difference =  to_binary(croped) - to_binary(img)\n",
    "ax[2].imshow(difference)\n",
    "ax[2].set_title(f\"{difference.min()} | {difference.max()}\")"
   ]
  },
  {
   "cell_type": "markdown",
   "metadata": {},
   "source": [
    "# DataLoader"
   ]
  },
  {
   "cell_type": "code",
   "execution_count": null,
   "metadata": {},
   "outputs": [],
   "source": [
    "# dataloader"
   ]
  },
  {
   "cell_type": "code",
   "execution_count": 1912,
   "metadata": {},
   "outputs": [
    {
     "data": {
      "image/png": "[encoded data removed]",
      "text/plain": [
       "<Figure size 640x480 with 1 Axes>"
      ]
     },
     "metadata": {},
     "output_type": "display_data"
    }
   ],
   "source": [
    "def create_img(num, x, y):\n",
    "    # x = [-2, 7]\n",
    "    # y = [7, 28]\n",
    "    image = np.zeros((30, 30), dtype=np.uint8)\n",
    "    cv2.putText(image, f\"{-float(num)}\", (x, y),\n",
    "                cv2.FONT_HERSHEY_SIMPLEX,\n",
    "                0.32, 255, 1, cv2.LINE_AA)\n",
    "    return image\n",
    "\n",
    "image = create_img(10, 7, 28)\n",
    "plt.imshow(image)\n",
    "image += create_img(10, -2, 28)\n",
    "plt.imshow(image)\n",
    "image += create_img(10, 7, 7)\n",
    "plt.imshow(image)\n",
    "image += create_img(10, -2, 7 )\n",
    "plt.imshow(image)\n",
    "plt.show()"
   ]
  },
  {
   "cell_type": "code",
   "execution_count": 677,
   "metadata": {},
   "outputs": [],
   "source": [
    "# using cv2.putText()\n",
    "\n",
    "# class GenerateDataset(Dataset):\n",
    "#     def __init__(self, num_samples):\n",
    "#         self.num_samples = num_samples\n",
    "#         self.font_list = [cv2.FONT_HERSHEY_SIMPLEX]\n",
    "\n",
    "#     def __len__(self):\n",
    "#         return self.num_samples\n",
    "\n",
    "#     def _create_img(self, num, x_bound, y_bound, s, font_n):\n",
    "#         image = np.zeros((30, 30), dtype=np.uint8)\n",
    "#         cv2.putText(image, f\"{float(num)}\", (x_bound, y_bound),\n",
    "#                     self.font_list[font_n],\n",
    "#                     s * 0.01, 255, 1, cv2.LINE_AA)\n",
    "#         return image\n",
    "\n",
    "#     def __getitem__(self, idx):\n",
    "#         num = np.random.randint(0, 99)\n",
    "#         fraction = np.random.choice([0.0, 0.5])\n",
    "#         num += fraction\n",
    "#         x_b = np.random.randint(-1, 7)\n",
    "#         y_b = np.random.randint(8, 28)\n",
    "#         s = np.random.randint(28, 42)\n",
    "#         font = np.random.randint(0, len(self.font_list))\n",
    "#         img = self._create_img(num, x_b, y_b, s, font)\n",
    "#         img = np.expand_dims(img, axis=0)\n",
    "#         img[img > 100] = 255\n",
    "#         img[img < 100] = 0\n",
    "#         noise = np.random.normal(0, 0.3, img.shape).astype(np.uint8)\n",
    "#         img = cv2.add(img, noise)\n",
    "#         return torch.tensor(img, dtype = torch.float32), torch.tensor([int(num // 10), int(num%10)])\n",
    "\n",
    "class GenerateDataset(Dataset):\n",
    "\n",
    "    def __init__(self, num_samples):\n",
    "        self.num_samples = num_samples\n",
    "\n",
    "    def __len__(self):\n",
    "        return self.num_samples\n",
    "\n",
    "    def _create_img(self, num, x_pos, y_pos, font_size):\n",
    "        # Create a figure and axis to generate the image\n",
    "        fig, ax = plt.subplots(figsize=(2 , 2), dpi=30)\n",
    "        ax.text(x_pos, y_pos, f'{num:.1f}', fontsize=font_size, ha='center', va='center')\n",
    "        ax.axis('off')\n",
    "    \n",
    "        # Save the plot to a buffer\n",
    "        buf = BytesIO()\n",
    "        plt.savefig(buf, format='png', bbox_inches='tight', pad_inches=0)\n",
    "        buf.seek(0)\n",
    "        plt.close(fig)\n",
    "    \n",
    "        # Convert the buffer to an image\n",
    "        img = Image.open(buf)\n",
    "        img = img.convert('L')  # Convert to grayscale\n",
    "        img = np.array(img)\n",
    "        \n",
    "        # Resize and center crop to ensure consistent size\n",
    "        img = cv2.resize(img, (30, 30), interpolation=cv2.INTER_AREA) / 255\n",
    "    \n",
    "        return img\n",
    "\n",
    "    def to_binary(self, img, bound: float=0.8):\n",
    "        img[img < bound] = 0\n",
    "        img[img > bound] = 1.0\n",
    "        return img\n",
    "\n",
    "    def __getitem__(self, idx):\n",
    "        # Generate a random number with either .0 or .5\n",
    "        num = np.random.randint(0, 99)\n",
    "        fraction = np.random.choice([0.0, 0.5])\n",
    "        num += fraction\n",
    "\n",
    "        # Create the image using Matplotlib\n",
    "        f_size = np.random.randint(33, 38)\n",
    "        x_pos = np.random.uniform(0.4, 0.7)\n",
    "        y_pos = np.random.uniform(0.4, 0.7)\n",
    "        img = self._create_img(num, x_pos, y_pos, font_size=f_size)\n",
    "\n",
    "        # Expand dimensions to match the required input format\n",
    "        img = np.expand_dims(img, axis=0)\n",
    "        b = np.random.uniform(0.7, 0.9)\n",
    "        img = self.to_binary(img, b)\n",
    "\n",
    "        # Create the label\n",
    "        #label = [int(num // 10), int(num % 10), int(5 if fraction == 0.5 else 0)]\n",
    "        label = [int(num // 10), int(num % 10)]\n",
    "\n",
    "        return torch.tensor(img, dtype=torch.float32), torch.tensor(label)\n",
    "\n",
    "def create_dataloader(num_samples: int = 32,\n",
    "                      batch_size: int = 32,\n",
    "                      shuffle: bool = False):\n",
    "    dataset = GenerateDataset(num_samples=num_samples)\n",
    "    return DataLoader(dataset, batch_size=batch_size, shuffle=shuffle)    "
   ]
  },
  {
   "cell_type": "code",
   "execution_count": 679,
   "metadata": {},
   "outputs": [],
   "source": [
    "data_loader = create_dataloader(num_samples = 32, shuffle=True)"
   ]
  },
  {
   "cell_type": "code",
   "execution_count": 681,
   "metadata": {},
   "outputs": [
    {
     "name": "stdout",
     "output_type": "stream",
     "text": [
      "torch.Size([32, 1, 30, 30])\n"
     ]
    },
    {
     "data": {
      "image/png": "[encoded data removed]",
      "text/plain": [
       "<Figure size 1000x500 with 8 Axes>"
      ]
     },
     "metadata": {},
     "output_type": "display_data"
    }
   ],
   "source": [
    "for img, num in data_loader:\n",
    "    break\n",
    "print(img.shape)\n",
    "_, ax = plt.subplots(1, 8, figsize = (10, 5))\n",
    "for n in range(8):\n",
    "    ax[n].imshow(img[n][0])\n",
    "    ax[n].set_title(f\"{num[n][0]}{num[n][1]}\")\n",
    "    ax[n].axis(\"off\")"
   ]
  },
  {
   "cell_type": "code",
   "execution_count": 697,
   "metadata": {},
   "outputs": [],
   "source": [
    "number_dict = {\"train\": 2600, \"validation\": 256, \"test\": 32}\n",
    "\n",
    "mode = \"test\"\n",
    "\n",
    "num_img = number_dict[mode]\n",
    "dataset = GenerateDataset(num_samples=num_img)\n",
    "df = {}\n",
    "for i, (img, lable) in enumerate(dataset):\n",
    "    df[i] = lable.numpy()\n",
    "    np.save(f\"./data/numbers/{mode}/{i}.npy\", img[0].numpy())\n",
    "    if i == num_img:\n",
    "        break\n",
    "df = pd.DataFrame(df).T\n",
    "df.to_csv(f\"./data/numbers/{mode}/labels.csv\")"
   ]
  },
  {
   "cell_type": "code",
   "execution_count": 592,
   "metadata": {},
   "outputs": [],
   "source": [
    "class NumberDataset(Dataset):\n",
    "\n",
    "    def __init__(self, mode: str = \"train\", num_samples=10, transform=None, img_size: int = 30):\n",
    "        super(Dataset, self).__init__()\n",
    "        self.num_samples = num_samples\n",
    "        self.transform = transform\n",
    "        self.img_size = (img_size, img_size)\n",
    "        self.image_paths = f\"./data/numbers/{mode}/\"\n",
    "        self.df = pd.read_csv(self.image_paths + \"labels.csv\")\n",
    "\n",
    "    def __len__(self):\n",
    "        return self.num_samples\n",
    "\n",
    "    def extract_number(self, filename):\n",
    "        base = os.path.basename(filename)\n",
    "        number = os.path.splitext(base)[0]\n",
    "        return int(number)\n",
    "\n",
    "    def __getitem__(self, idx):\n",
    "        img = np.load(self.image_paths + f\"{idx}.npy\")\n",
    "        img = np.expand_dims(img, axis=0)\n",
    "        label = self.df.iloc[idx]\n",
    "        label = torch.tensor([label[\"0\"], label[\"1\"]])\n",
    "        return img, label\n",
    "\n",
    "def create_dataloader(num_samples: int = 32,\n",
    "                      batch_size: int = 32,\n",
    "                      shuffle: bool = False):\n",
    "    dataset = NumberDataset(num_samples=num_samples)\n",
    "    return DataLoader(dataset, batch_size=batch_size, shuffle=shuffle)   "
   ]
  },
  {
   "cell_type": "code",
   "execution_count": 598,
   "metadata": {},
   "outputs": [
    {
     "data": {
      "text/plain": [
       "Text(0.5, 1.0, '1 3')"
      ]
     },
     "execution_count": 598,
     "metadata": {},
     "output_type": "execute_result"
    },
    {
     "data": {
      "image/png": "[encoded data removed]",
      "text/plain": [
       "<Figure size 640x480 with 1 Axes>"
      ]
     },
     "metadata": {},
     "output_type": "display_data"
    }
   ],
   "source": [
    "i = 0\n",
    "for img, label in NumberDataset():\n",
    "    i +=1 \n",
    "    if i == 6:\n",
    "        break\n",
    "plt.imshow(img[0])\n",
    "plt.title(f\"{label[0]} {label[1]}\")"
   ]
  },
  {
   "cell_type": "markdown",
   "metadata": {},
   "source": [
    "# Model"
   ]
  },
  {
   "cell_type": "code",
   "execution_count": 2599,
   "metadata": {},
   "outputs": [],
   "source": [
    "# model"
   ]
  },
  {
   "cell_type": "code",
   "execution_count": 684,
   "metadata": {},
   "outputs": [
    {
     "name": "stdout",
     "output_type": "stream",
     "text": [
      "torch.Size([1, 2, 10])\n"
     ]
    }
   ],
   "source": [
    "# Simple CRNN\n",
    "\n",
    "class CRNN(nn.Module):\n",
    "    def __init__(self, num_classes=10):\n",
    "        super(CRNN, self).__init__()\n",
    "        \n",
    "        # Define the CNN part\n",
    "        self.cnn = nn.Sequential(\n",
    "            nn.Conv2d(1, 32, kernel_size=3, stride=1, padding=1),  # output: (32, 30, 30)\n",
    "            nn.ReLU(),\n",
    "            nn.MaxPool2d(2, 2),\n",
    "            nn.Conv2d(32, 32, kernel_size=3, stride=1, padding=1),  # output: (64, 15, 15)\n",
    "            nn.ReLU(),\n",
    "            nn.Conv2d(32, 64, kernel_size=3, stride=1, padding=1),  # output: (64, 15, 15)\n",
    "            nn.ReLU(),\n",
    "            nn.MaxPool2d(2, 2)  # output: (64, 7, 7)\n",
    "        )\n",
    "        \n",
    "        # Define the LSTM part\n",
    "        self.rnn = nn.LSTM(input_size=64, hidden_size=128, num_layers=2, bidirectional=True, batch_first=True)\n",
    "        \n",
    "        # Fully connected layer for classification\n",
    "        self.fc = nn.Linear(128 * 2, num_classes)  # num_classes = 10 for digits 0-9\n",
    "        \n",
    "    def forward(self, x):\n",
    "        # Pass through CNN\n",
    "        x = self.cnn(x)  # output: (batch_size, 64, 7, 7)\n",
    "\n",
    "        # Reshape to (batch_size, sequence_length, features)\n",
    "        x = x.view(x.size(0), 49, 64)  # output: (batch_size, 4, 64)\n",
    "        \n",
    "        # Pass through RNN\n",
    "        x, _ = self.rnn(x)  # output: (batch_size, 4, 256)\n",
    "\n",
    "        # Use only the last two outputs of LSTM for classification\n",
    "        x = x[:, -2:, :]  # output: (batch_size, 2, 256)\n",
    "\n",
    "        # Pass through fully connected layer (apply to each sequence element)\n",
    "        x = self.fc(x)  # output: (batch_size, 2, num_classes)\n",
    "        \n",
    "        # Apply log softmax to get probabilities\n",
    "        x = F.log_softmax(x, dim=2)  # output: (batch_size, 2, num_classes)\n",
    "        \n",
    "        return x\n",
    "\n",
    "# Example usage\n",
    "num_classes = 10\n",
    "crnn_model = CRNN(num_classes=10)\n",
    "input_image = torch.rand(1, 1, 30, 30)  # Batch size of 1, 1 channel (grayscale), 10x10 image\n",
    "output = crnn_model(input_image)\n",
    "\n",
    "# The output will be a tensor of shape (batch_size, sequence_length, num_classes)\n",
    "print(output.shape)"
   ]
  },
  {
   "cell_type": "markdown",
   "metadata": {},
   "source": [
    "# Train"
   ]
  },
  {
   "cell_type": "code",
   "execution_count": 603,
   "metadata": {},
   "outputs": [],
   "source": [
    "# train"
   ]
  },
  {
   "cell_type": "code",
   "execution_count": 687,
   "metadata": {},
   "outputs": [],
   "source": [
    "train_loader = create_dataloader(num_samples = 2600, batch_size=32, shuffle=True)\n",
    "val_loader = create_dataloader(num_samples = 128, batch_size=16, shuffle=True)"
   ]
  },
  {
   "cell_type": "code",
   "execution_count": 689,
   "metadata": {},
   "outputs": [],
   "source": [
    "optimizer = torch.optim.Adam(params=crnn_model.parameters(),\n",
    "                             lr=3e-4)\n",
    "loss_fn = torch.nn.CrossEntropyLoss()"
   ]
  },
  {
   "cell_type": "code",
   "execution_count": 691,
   "metadata": {},
   "outputs": [],
   "source": [
    "DEVICE = \"cpu\"\n",
    "\n",
    "class Trainer:\n",
    "\n",
    "    def __init__(self, device: str = \"mps\") -> None:\n",
    "        self.device = device\n",
    "        pass\n",
    "\n",
    "    def train_step(self,\n",
    "                   model: torch.nn.Module,\n",
    "                   dataloader: torch.utils.data.DataLoader,\n",
    "                   loss_fn: torch.nn.Module,\n",
    "                   optimizer: torch.optim.Optimizer\n",
    "                   ):\n",
    "        model.train()\n",
    "        train_loss = 0\n",
    "        correct_predictions = 0\n",
    "        total_predictions = 0\n",
    "        for X,y in dataloader:\n",
    "            X = X.to(self.device)\n",
    "            y = y.to(self.device)\n",
    "            optimizer.zero_grad()\n",
    "            y_pred = model(X)\n",
    "            loss = loss_fn(y_pred.view(-1, num_classes), y.view(-1))\n",
    "            loss.backward()\n",
    "            optimizer.step()\n",
    "            train_loss += loss.item()\n",
    "            y_pred = torch.argmax(y_pred, dim=2)\n",
    "            correct_predictions += (y_pred == y).sum().item()\n",
    "            total_predictions += y.numel()\n",
    "        avg_train_loss = train_loss / len(dataloader)\n",
    "        avg_train_accuracy = correct_predictions / total_predictions\n",
    "        return avg_train_loss, avg_train_accuracy\n",
    "    \n",
    "    def val_step(self,\n",
    "                 model: torch.nn.Module,\n",
    "                 dataloader: torch.utils.data.DataLoader,\n",
    "                 loss_fn: torch.nn.Module\n",
    "                 ):\n",
    "        model.eval()\n",
    "        test_loss = 0\n",
    "        correct_predictions = 0\n",
    "        total_predictions = 0\n",
    "        with torch.inference_mode():\n",
    "            for X,y in dataloader:\n",
    "                X = X.to(self.device)\n",
    "                y = y.to(self.device)\n",
    "                y_pred = model(X)\n",
    "                loss = loss_fn(y_pred.view(-1, num_classes), y.view(-1))\n",
    "                test_loss += loss.item()\n",
    "                y_pred = torch.argmax(y_pred, dim=2)\n",
    "                correct_predictions += (y_pred == y).sum().item()\n",
    "                total_predictions += y.numel()\n",
    "            avg_train_loss = test_loss / len(dataloader)\n",
    "            avg_train_accuracy = correct_predictions / total_predictions\n",
    "        return avg_train_loss, avg_train_accuracy\n",
    "\n",
    "    def train(self,\n",
    "              model: torch.nn.Module,\n",
    "              train_dataloader: torch.utils.data.DataLoader,\n",
    "              val_dataloader: torch.utils.data.DataLoader,\n",
    "              optimizer: torch.optim.Optimizer,\n",
    "              loss_fn: torch.nn.Module,\n",
    "              epochs: int=100,\n",
    "              output_freq: int=5):\n",
    "        model = model.to(self.device)\n",
    "        results = {\"train_loss\": [],\n",
    "                \"train_acc\": [],\n",
    "                \"validation_loss\": [],\n",
    "                \"validation_acc\": []\n",
    "                }\n",
    "        for epoch in tqdm.tqdm(range(epochs)):\n",
    "            train_loss, train_acc = self.train_step(model=model,\n",
    "                                                    dataloader=train_dataloader,\n",
    "                                                    loss_fn=loss_fn,\n",
    "                                                    optimizer=optimizer,\n",
    "                                                    )\n",
    "            test_loss, test_acc = self.val_step(model=model,\n",
    "                                                dataloader=val_dataloader,\n",
    "                                                loss_fn=loss_fn,\n",
    "                                                )\n",
    "            if epoch%output_freq==0:\n",
    "                print(\n",
    "                f\"Epoch: {epoch+1} | \"\n",
    "                f\"train_loss: {train_loss:.4f} | \"\n",
    "                f\"validation_loss: {test_loss:.4f} | \"\n",
    "                f\"train_acc: {train_acc:.4f} | \"\n",
    "                f\"validation_acc: {test_acc:.4f}\"\n",
    "                )\n",
    "            results[\"train_loss\"].append(train_loss)\n",
    "            results[\"validation_loss\"].append(test_loss)\n",
    "            results[\"train_acc\"].append(train_acc)\n",
    "            results[\"validation_acc\"].append(test_acc)\n",
    "        return results\n",
    "\n",
    "train_set = Trainer(device=DEVICE)"
   ]
  },
  {
   "cell_type": "code",
   "execution_count": 693,
   "metadata": {
    "scrolled": true
   },
   "outputs": [
    {
     "name": "stderr",
     "output_type": "stream",
     "text": [
      "  2%|▏         | 1/51 [00:23<19:30, 23.41s/it]"
     ]
    },
    {
     "name": "stdout",
     "output_type": "stream",
     "text": [
      "Epoch: 1 | train_loss: 2.3038 | validation_loss: 2.3015 | train_acc: 0.1025 | validation_acc: 0.1016\n"
     ]
    },
    {
     "name": "stderr",
     "output_type": "stream",
     "text": [
      " 22%|██▏       | 11/51 [11:39<23:41, 35.54s/it]  "
     ]
    },
    {
     "name": "stdout",
     "output_type": "stream",
     "text": [
      "Epoch: 11 | train_loss: 1.9678 | validation_loss: 1.8965 | train_acc: 0.2319 | validation_acc: 0.2461\n"
     ]
    },
    {
     "name": "stderr",
     "output_type": "stream",
     "text": [
      " 33%|███▎      | 17/51 [15:49<31:39, 55.86s/it]\n"
     ]
    },
    {
     "ename": "KeyboardInterrupt",
     "evalue": "",
     "output_type": "error",
     "traceback": [
      "\u001b[0;31m---------------------------------------------------------------------------\u001b[0m",
      "\u001b[0;31mKeyboardInterrupt\u001b[0m                         Traceback (most recent call last)",
      "Cell \u001b[0;32mIn[693], line 1\u001b[0m\n\u001b[0;32m----> 1\u001b[0m history \u001b[38;5;241m=\u001b[39m \u001b[43mtrain_set\u001b[49m\u001b[38;5;241;43m.\u001b[39;49m\u001b[43mtrain\u001b[49m\u001b[43m(\u001b[49m\n\u001b[1;32m      2\u001b[0m \u001b[43m    \u001b[49m\u001b[43mmodel\u001b[49m\u001b[38;5;241;43m=\u001b[39;49m\u001b[43mcrnn_model\u001b[49m\u001b[43m,\u001b[49m\n\u001b[1;32m      3\u001b[0m \u001b[43m    \u001b[49m\u001b[43mtrain_dataloader\u001b[49m\u001b[43m \u001b[49m\u001b[38;5;241;43m=\u001b[39;49m\u001b[43m \u001b[49m\u001b[43mtrain_loader\u001b[49m\u001b[43m,\u001b[49m\n\u001b[1;32m      4\u001b[0m \u001b[43m    \u001b[49m\u001b[43mval_dataloader\u001b[49m\u001b[43m \u001b[49m\u001b[38;5;241;43m=\u001b[39;49m\u001b[43m \u001b[49m\u001b[43mval_loader\u001b[49m\u001b[43m,\u001b[49m\n\u001b[1;32m      5\u001b[0m \u001b[43m    \u001b[49m\u001b[43moptimizer\u001b[49m\u001b[38;5;241;43m=\u001b[39;49m\u001b[43moptimizer\u001b[49m\u001b[43m,\u001b[49m\n\u001b[1;32m      6\u001b[0m \u001b[43m    \u001b[49m\u001b[43mloss_fn\u001b[49m\u001b[38;5;241;43m=\u001b[39;49m\u001b[43mloss_fn\u001b[49m\u001b[43m,\u001b[49m\n\u001b[1;32m      7\u001b[0m \u001b[43m    \u001b[49m\u001b[43mepochs\u001b[49m\u001b[38;5;241;43m=\u001b[39;49m\u001b[38;5;241;43m51\u001b[39;49m\u001b[43m,\u001b[49m\n\u001b[1;32m      8\u001b[0m \u001b[43m    \u001b[49m\u001b[43moutput_freq\u001b[49m\u001b[38;5;241;43m=\u001b[39;49m\u001b[38;5;241;43m10\u001b[39;49m\n\u001b[1;32m      9\u001b[0m \u001b[43m)\u001b[49m\n",
      "Cell \u001b[0;32mIn[691], line 73\u001b[0m, in \u001b[0;36mTrainer.train\u001b[0;34m(self, model, train_dataloader, val_dataloader, optimizer, loss_fn, epochs, output_freq)\u001b[0m\n\u001b[1;32m     67\u001b[0m results \u001b[38;5;241m=\u001b[39m {\u001b[38;5;124m\"\u001b[39m\u001b[38;5;124mtrain_loss\u001b[39m\u001b[38;5;124m\"\u001b[39m: [],\n\u001b[1;32m     68\u001b[0m         \u001b[38;5;124m\"\u001b[39m\u001b[38;5;124mtrain_acc\u001b[39m\u001b[38;5;124m\"\u001b[39m: [],\n\u001b[1;32m     69\u001b[0m         \u001b[38;5;124m\"\u001b[39m\u001b[38;5;124mvalidation_loss\u001b[39m\u001b[38;5;124m\"\u001b[39m: [],\n\u001b[1;32m     70\u001b[0m         \u001b[38;5;124m\"\u001b[39m\u001b[38;5;124mvalidation_acc\u001b[39m\u001b[38;5;124m\"\u001b[39m: []\n\u001b[1;32m     71\u001b[0m         }\n\u001b[1;32m     72\u001b[0m \u001b[38;5;28;01mfor\u001b[39;00m epoch \u001b[38;5;129;01min\u001b[39;00m tqdm\u001b[38;5;241m.\u001b[39mtqdm(\u001b[38;5;28mrange\u001b[39m(epochs)):\n\u001b[0;32m---> 73\u001b[0m     train_loss, train_acc \u001b[38;5;241m=\u001b[39m \u001b[38;5;28;43mself\u001b[39;49m\u001b[38;5;241;43m.\u001b[39;49m\u001b[43mtrain_step\u001b[49m\u001b[43m(\u001b[49m\u001b[43mmodel\u001b[49m\u001b[38;5;241;43m=\u001b[39;49m\u001b[43mmodel\u001b[49m\u001b[43m,\u001b[49m\n\u001b[1;32m     74\u001b[0m \u001b[43m                                            \u001b[49m\u001b[43mdataloader\u001b[49m\u001b[38;5;241;43m=\u001b[39;49m\u001b[43mtrain_dataloader\u001b[49m\u001b[43m,\u001b[49m\n\u001b[1;32m     75\u001b[0m \u001b[43m                                            \u001b[49m\u001b[43mloss_fn\u001b[49m\u001b[38;5;241;43m=\u001b[39;49m\u001b[43mloss_fn\u001b[49m\u001b[43m,\u001b[49m\n\u001b[1;32m     76\u001b[0m \u001b[43m                                            \u001b[49m\u001b[43moptimizer\u001b[49m\u001b[38;5;241;43m=\u001b[39;49m\u001b[43moptimizer\u001b[49m\u001b[43m,\u001b[49m\n\u001b[1;32m     77\u001b[0m \u001b[43m                                            \u001b[49m\u001b[43m)\u001b[49m\n\u001b[1;32m     78\u001b[0m     test_loss, test_acc \u001b[38;5;241m=\u001b[39m \u001b[38;5;28mself\u001b[39m\u001b[38;5;241m.\u001b[39mval_step(model\u001b[38;5;241m=\u001b[39mmodel,\n\u001b[1;32m     79\u001b[0m                                         dataloader\u001b[38;5;241m=\u001b[39mval_dataloader,\n\u001b[1;32m     80\u001b[0m                                         loss_fn\u001b[38;5;241m=\u001b[39mloss_fn,\n\u001b[1;32m     81\u001b[0m                                         )\n\u001b[1;32m     82\u001b[0m     \u001b[38;5;28;01mif\u001b[39;00m epoch\u001b[38;5;241m%\u001b[39moutput_freq\u001b[38;5;241m==\u001b[39m\u001b[38;5;241m0\u001b[39m:\n",
      "Cell \u001b[0;32mIn[691], line 19\u001b[0m, in \u001b[0;36mTrainer.train_step\u001b[0;34m(self, model, dataloader, loss_fn, optimizer)\u001b[0m\n\u001b[1;32m     17\u001b[0m correct_predictions \u001b[38;5;241m=\u001b[39m \u001b[38;5;241m0\u001b[39m\n\u001b[1;32m     18\u001b[0m total_predictions \u001b[38;5;241m=\u001b[39m \u001b[38;5;241m0\u001b[39m\n\u001b[0;32m---> 19\u001b[0m \u001b[43m\u001b[49m\u001b[38;5;28;43;01mfor\u001b[39;49;00m\u001b[43m \u001b[49m\u001b[43mX\u001b[49m\u001b[43m,\u001b[49m\u001b[43my\u001b[49m\u001b[43m \u001b[49m\u001b[38;5;129;43;01min\u001b[39;49;00m\u001b[43m \u001b[49m\u001b[43mdataloader\u001b[49m\u001b[43m:\u001b[49m\n\u001b[1;32m     20\u001b[0m \u001b[43m    \u001b[49m\u001b[43mX\u001b[49m\u001b[43m \u001b[49m\u001b[38;5;241;43m=\u001b[39;49m\u001b[43m \u001b[49m\u001b[43mX\u001b[49m\u001b[38;5;241;43m.\u001b[39;49m\u001b[43mto\u001b[49m\u001b[43m(\u001b[49m\u001b[38;5;28;43mself\u001b[39;49m\u001b[38;5;241;43m.\u001b[39;49m\u001b[43mdevice\u001b[49m\u001b[43m)\u001b[49m\n\u001b[1;32m     21\u001b[0m \u001b[43m    \u001b[49m\u001b[43my\u001b[49m\u001b[43m \u001b[49m\u001b[38;5;241;43m=\u001b[39;49m\u001b[43m \u001b[49m\u001b[43my\u001b[49m\u001b[38;5;241;43m.\u001b[39;49m\u001b[43mto\u001b[49m\u001b[43m(\u001b[49m\u001b[38;5;28;43mself\u001b[39;49m\u001b[38;5;241;43m.\u001b[39;49m\u001b[43mdevice\u001b[49m\u001b[43m)\u001b[49m\n",
      "File \u001b[0;32m~/Desktop/PlotExtract/.plotextract/lib/python3.11/site-packages/torch/utils/data/dataloader.py:701\u001b[0m, in \u001b[0;36m_BaseDataLoaderIter.__next__\u001b[0;34m(self)\u001b[0m\n\u001b[1;32m    698\u001b[0m \u001b[38;5;28;01mif\u001b[39;00m \u001b[38;5;28mself\u001b[39m\u001b[38;5;241m.\u001b[39m_sampler_iter \u001b[38;5;129;01mis\u001b[39;00m \u001b[38;5;28;01mNone\u001b[39;00m:\n\u001b[1;32m    699\u001b[0m     \u001b[38;5;66;03m# TODO(https://github.com/pytorch/pytorch/issues/76750)\u001b[39;00m\n\u001b[1;32m    700\u001b[0m     \u001b[38;5;28mself\u001b[39m\u001b[38;5;241m.\u001b[39m_reset()  \u001b[38;5;66;03m# type: ignore[call-arg]\u001b[39;00m\n\u001b[0;32m--> 701\u001b[0m data \u001b[38;5;241m=\u001b[39m \u001b[38;5;28;43mself\u001b[39;49m\u001b[38;5;241;43m.\u001b[39;49m\u001b[43m_next_data\u001b[49m\u001b[43m(\u001b[49m\u001b[43m)\u001b[49m\n\u001b[1;32m    702\u001b[0m \u001b[38;5;28mself\u001b[39m\u001b[38;5;241m.\u001b[39m_num_yielded \u001b[38;5;241m+\u001b[39m\u001b[38;5;241m=\u001b[39m \u001b[38;5;241m1\u001b[39m\n\u001b[1;32m    703\u001b[0m \u001b[38;5;28;01mif\u001b[39;00m (\n\u001b[1;32m    704\u001b[0m     \u001b[38;5;28mself\u001b[39m\u001b[38;5;241m.\u001b[39m_dataset_kind \u001b[38;5;241m==\u001b[39m _DatasetKind\u001b[38;5;241m.\u001b[39mIterable\n\u001b[1;32m    705\u001b[0m     \u001b[38;5;129;01mand\u001b[39;00m \u001b[38;5;28mself\u001b[39m\u001b[38;5;241m.\u001b[39m_IterableDataset_len_called \u001b[38;5;129;01mis\u001b[39;00m \u001b[38;5;129;01mnot\u001b[39;00m \u001b[38;5;28;01mNone\u001b[39;00m\n\u001b[1;32m    706\u001b[0m     \u001b[38;5;129;01mand\u001b[39;00m \u001b[38;5;28mself\u001b[39m\u001b[38;5;241m.\u001b[39m_num_yielded \u001b[38;5;241m>\u001b[39m \u001b[38;5;28mself\u001b[39m\u001b[38;5;241m.\u001b[39m_IterableDataset_len_called\n\u001b[1;32m    707\u001b[0m ):\n",
      "File \u001b[0;32m~/Desktop/PlotExtract/.plotextract/lib/python3.11/site-packages/torch/utils/data/dataloader.py:757\u001b[0m, in \u001b[0;36m_SingleProcessDataLoaderIter._next_data\u001b[0;34m(self)\u001b[0m\n\u001b[1;32m    755\u001b[0m \u001b[38;5;28;01mdef\u001b[39;00m \u001b[38;5;21m_next_data\u001b[39m(\u001b[38;5;28mself\u001b[39m):\n\u001b[1;32m    756\u001b[0m     index \u001b[38;5;241m=\u001b[39m \u001b[38;5;28mself\u001b[39m\u001b[38;5;241m.\u001b[39m_next_index()  \u001b[38;5;66;03m# may raise StopIteration\u001b[39;00m\n\u001b[0;32m--> 757\u001b[0m     data \u001b[38;5;241m=\u001b[39m \u001b[38;5;28;43mself\u001b[39;49m\u001b[38;5;241;43m.\u001b[39;49m\u001b[43m_dataset_fetcher\u001b[49m\u001b[38;5;241;43m.\u001b[39;49m\u001b[43mfetch\u001b[49m\u001b[43m(\u001b[49m\u001b[43mindex\u001b[49m\u001b[43m)\u001b[49m  \u001b[38;5;66;03m# may raise StopIteration\u001b[39;00m\n\u001b[1;32m    758\u001b[0m     \u001b[38;5;28;01mif\u001b[39;00m \u001b[38;5;28mself\u001b[39m\u001b[38;5;241m.\u001b[39m_pin_memory:\n\u001b[1;32m    759\u001b[0m         data \u001b[38;5;241m=\u001b[39m _utils\u001b[38;5;241m.\u001b[39mpin_memory\u001b[38;5;241m.\u001b[39mpin_memory(data, \u001b[38;5;28mself\u001b[39m\u001b[38;5;241m.\u001b[39m_pin_memory_device)\n",
      "File \u001b[0;32m~/Desktop/PlotExtract/.plotextract/lib/python3.11/site-packages/torch/utils/data/_utils/fetch.py:52\u001b[0m, in \u001b[0;36m_MapDatasetFetcher.fetch\u001b[0;34m(self, possibly_batched_index)\u001b[0m\n\u001b[1;32m     50\u001b[0m         data \u001b[38;5;241m=\u001b[39m \u001b[38;5;28mself\u001b[39m\u001b[38;5;241m.\u001b[39mdataset\u001b[38;5;241m.\u001b[39m__getitems__(possibly_batched_index)\n\u001b[1;32m     51\u001b[0m     \u001b[38;5;28;01melse\u001b[39;00m:\n\u001b[0;32m---> 52\u001b[0m         data \u001b[38;5;241m=\u001b[39m \u001b[43m[\u001b[49m\u001b[38;5;28;43mself\u001b[39;49m\u001b[38;5;241;43m.\u001b[39;49m\u001b[43mdataset\u001b[49m\u001b[43m[\u001b[49m\u001b[43midx\u001b[49m\u001b[43m]\u001b[49m\u001b[43m \u001b[49m\u001b[38;5;28;43;01mfor\u001b[39;49;00m\u001b[43m \u001b[49m\u001b[43midx\u001b[49m\u001b[43m \u001b[49m\u001b[38;5;129;43;01min\u001b[39;49;00m\u001b[43m \u001b[49m\u001b[43mpossibly_batched_index\u001b[49m\u001b[43m]\u001b[49m\n\u001b[1;32m     53\u001b[0m \u001b[38;5;28;01melse\u001b[39;00m:\n\u001b[1;32m     54\u001b[0m     data \u001b[38;5;241m=\u001b[39m \u001b[38;5;28mself\u001b[39m\u001b[38;5;241m.\u001b[39mdataset[possibly_batched_index]\n",
      "File \u001b[0;32m~/Desktop/PlotExtract/.plotextract/lib/python3.11/site-packages/torch/utils/data/_utils/fetch.py:52\u001b[0m, in \u001b[0;36m<listcomp>\u001b[0;34m(.0)\u001b[0m\n\u001b[1;32m     50\u001b[0m         data \u001b[38;5;241m=\u001b[39m \u001b[38;5;28mself\u001b[39m\u001b[38;5;241m.\u001b[39mdataset\u001b[38;5;241m.\u001b[39m__getitems__(possibly_batched_index)\n\u001b[1;32m     51\u001b[0m     \u001b[38;5;28;01melse\u001b[39;00m:\n\u001b[0;32m---> 52\u001b[0m         data \u001b[38;5;241m=\u001b[39m [\u001b[38;5;28;43mself\u001b[39;49m\u001b[38;5;241;43m.\u001b[39;49m\u001b[43mdataset\u001b[49m\u001b[43m[\u001b[49m\u001b[43midx\u001b[49m\u001b[43m]\u001b[49m \u001b[38;5;28;01mfor\u001b[39;00m idx \u001b[38;5;129;01min\u001b[39;00m possibly_batched_index]\n\u001b[1;32m     53\u001b[0m \u001b[38;5;28;01melse\u001b[39;00m:\n\u001b[1;32m     54\u001b[0m     data \u001b[38;5;241m=\u001b[39m \u001b[38;5;28mself\u001b[39m\u001b[38;5;241m.\u001b[39mdataset[possibly_batched_index]\n",
      "Cell \u001b[0;32mIn[677], line 79\u001b[0m, in \u001b[0;36mGenerateDataset.__getitem__\u001b[0;34m(self, idx)\u001b[0m\n\u001b[1;32m     77\u001b[0m x_pos \u001b[38;5;241m=\u001b[39m np\u001b[38;5;241m.\u001b[39mrandom\u001b[38;5;241m.\u001b[39muniform(\u001b[38;5;241m0.4\u001b[39m, \u001b[38;5;241m0.7\u001b[39m)\n\u001b[1;32m     78\u001b[0m y_pos \u001b[38;5;241m=\u001b[39m np\u001b[38;5;241m.\u001b[39mrandom\u001b[38;5;241m.\u001b[39muniform(\u001b[38;5;241m0.4\u001b[39m, \u001b[38;5;241m0.7\u001b[39m)\n\u001b[0;32m---> 79\u001b[0m img \u001b[38;5;241m=\u001b[39m \u001b[38;5;28;43mself\u001b[39;49m\u001b[38;5;241;43m.\u001b[39;49m\u001b[43m_create_img\u001b[49m\u001b[43m(\u001b[49m\u001b[43mnum\u001b[49m\u001b[43m,\u001b[49m\u001b[43m \u001b[49m\u001b[43mx_pos\u001b[49m\u001b[43m,\u001b[49m\u001b[43m \u001b[49m\u001b[43my_pos\u001b[49m\u001b[43m,\u001b[49m\u001b[43m \u001b[49m\u001b[43mfont_size\u001b[49m\u001b[38;5;241;43m=\u001b[39;49m\u001b[43mf_size\u001b[49m\u001b[43m)\u001b[49m\n\u001b[1;32m     81\u001b[0m \u001b[38;5;66;03m# Expand dimensions to match the required input format\u001b[39;00m\n\u001b[1;32m     82\u001b[0m img \u001b[38;5;241m=\u001b[39m np\u001b[38;5;241m.\u001b[39mexpand_dims(img, axis\u001b[38;5;241m=\u001b[39m\u001b[38;5;241m0\u001b[39m)\n",
      "Cell \u001b[0;32mIn[677], line 44\u001b[0m, in \u001b[0;36mGenerateDataset._create_img\u001b[0;34m(self, num, x_pos, y_pos, font_size)\u001b[0m\n\u001b[1;32m     42\u001b[0m \u001b[38;5;28;01mdef\u001b[39;00m \u001b[38;5;21m_create_img\u001b[39m(\u001b[38;5;28mself\u001b[39m, num, x_pos, y_pos, font_size):\n\u001b[1;32m     43\u001b[0m     \u001b[38;5;66;03m# Create a figure and axis to generate the image\u001b[39;00m\n\u001b[0;32m---> 44\u001b[0m     fig, ax \u001b[38;5;241m=\u001b[39m \u001b[43mplt\u001b[49m\u001b[38;5;241;43m.\u001b[39;49m\u001b[43msubplots\u001b[49m\u001b[43m(\u001b[49m\u001b[43mfigsize\u001b[49m\u001b[38;5;241;43m=\u001b[39;49m\u001b[43m(\u001b[49m\u001b[38;5;241;43m2\u001b[39;49m\u001b[43m \u001b[49m\u001b[43m,\u001b[49m\u001b[43m \u001b[49m\u001b[38;5;241;43m2\u001b[39;49m\u001b[43m)\u001b[49m\u001b[43m,\u001b[49m\u001b[43m \u001b[49m\u001b[43mdpi\u001b[49m\u001b[38;5;241;43m=\u001b[39;49m\u001b[38;5;241;43m30\u001b[39;49m\u001b[43m)\u001b[49m\n\u001b[1;32m     45\u001b[0m     ax\u001b[38;5;241m.\u001b[39mtext(x_pos, y_pos, \u001b[38;5;124mf\u001b[39m\u001b[38;5;124m'\u001b[39m\u001b[38;5;132;01m{\u001b[39;00mnum\u001b[38;5;132;01m:\u001b[39;00m\u001b[38;5;124m.1f\u001b[39m\u001b[38;5;132;01m}\u001b[39;00m\u001b[38;5;124m'\u001b[39m, fontsize\u001b[38;5;241m=\u001b[39mfont_size, ha\u001b[38;5;241m=\u001b[39m\u001b[38;5;124m'\u001b[39m\u001b[38;5;124mcenter\u001b[39m\u001b[38;5;124m'\u001b[39m, va\u001b[38;5;241m=\u001b[39m\u001b[38;5;124m'\u001b[39m\u001b[38;5;124mcenter\u001b[39m\u001b[38;5;124m'\u001b[39m)\n\u001b[1;32m     46\u001b[0m     ax\u001b[38;5;241m.\u001b[39maxis(\u001b[38;5;124m'\u001b[39m\u001b[38;5;124moff\u001b[39m\u001b[38;5;124m'\u001b[39m)\n",
      "File \u001b[0;32m~/Desktop/PlotExtract/.plotextract/lib/python3.11/site-packages/matplotlib/pyplot.py:1760\u001b[0m, in \u001b[0;36msubplots\u001b[0;34m(nrows, ncols, sharex, sharey, squeeze, width_ratios, height_ratios, subplot_kw, gridspec_kw, **fig_kw)\u001b[0m\n\u001b[1;32m   1615\u001b[0m \u001b[38;5;250m\u001b[39m\u001b[38;5;124;03m\"\"\"\u001b[39;00m\n\u001b[1;32m   1616\u001b[0m \u001b[38;5;124;03mCreate a figure and a set of subplots.\u001b[39;00m\n\u001b[1;32m   1617\u001b[0m \n\u001b[0;32m   (...)\u001b[0m\n\u001b[1;32m   1757\u001b[0m \n\u001b[1;32m   1758\u001b[0m \u001b[38;5;124;03m\"\"\"\u001b[39;00m\n\u001b[1;32m   1759\u001b[0m fig \u001b[38;5;241m=\u001b[39m figure(\u001b[38;5;241m*\u001b[39m\u001b[38;5;241m*\u001b[39mfig_kw)\n\u001b[0;32m-> 1760\u001b[0m axs \u001b[38;5;241m=\u001b[39m \u001b[43mfig\u001b[49m\u001b[38;5;241;43m.\u001b[39;49m\u001b[43msubplots\u001b[49m\u001b[43m(\u001b[49m\u001b[43mnrows\u001b[49m\u001b[38;5;241;43m=\u001b[39;49m\u001b[43mnrows\u001b[49m\u001b[43m,\u001b[49m\u001b[43m \u001b[49m\u001b[43mncols\u001b[49m\u001b[38;5;241;43m=\u001b[39;49m\u001b[43mncols\u001b[49m\u001b[43m,\u001b[49m\u001b[43m \u001b[49m\u001b[43msharex\u001b[49m\u001b[38;5;241;43m=\u001b[39;49m\u001b[43msharex\u001b[49m\u001b[43m,\u001b[49m\u001b[43m \u001b[49m\u001b[43msharey\u001b[49m\u001b[38;5;241;43m=\u001b[39;49m\u001b[43msharey\u001b[49m\u001b[43m,\u001b[49m\n\u001b[1;32m   1761\u001b[0m \u001b[43m                   \u001b[49m\u001b[43msqueeze\u001b[49m\u001b[38;5;241;43m=\u001b[39;49m\u001b[43msqueeze\u001b[49m\u001b[43m,\u001b[49m\u001b[43m \u001b[49m\u001b[43msubplot_kw\u001b[49m\u001b[38;5;241;43m=\u001b[39;49m\u001b[43msubplot_kw\u001b[49m\u001b[43m,\u001b[49m\n\u001b[1;32m   1762\u001b[0m \u001b[43m                   \u001b[49m\u001b[43mgridspec_kw\u001b[49m\u001b[38;5;241;43m=\u001b[39;49m\u001b[43mgridspec_kw\u001b[49m\u001b[43m,\u001b[49m\u001b[43m \u001b[49m\u001b[43mheight_ratios\u001b[49m\u001b[38;5;241;43m=\u001b[39;49m\u001b[43mheight_ratios\u001b[49m\u001b[43m,\u001b[49m\n\u001b[1;32m   1763\u001b[0m \u001b[43m                   \u001b[49m\u001b[43mwidth_ratios\u001b[49m\u001b[38;5;241;43m=\u001b[39;49m\u001b[43mwidth_ratios\u001b[49m\u001b[43m)\u001b[49m\n\u001b[1;32m   1764\u001b[0m \u001b[38;5;28;01mreturn\u001b[39;00m fig, axs\n",
      "File \u001b[0;32m~/Desktop/PlotExtract/.plotextract/lib/python3.11/site-packages/matplotlib/figure.py:861\u001b[0m, in \u001b[0;36mFigureBase.subplots\u001b[0;34m(self, nrows, ncols, sharex, sharey, squeeze, width_ratios, height_ratios, subplot_kw, gridspec_kw)\u001b[0m\n\u001b[1;32m    858\u001b[0m     gridspec_kw[\u001b[38;5;124m'\u001b[39m\u001b[38;5;124mwidth_ratios\u001b[39m\u001b[38;5;124m'\u001b[39m] \u001b[38;5;241m=\u001b[39m width_ratios\n\u001b[1;32m    860\u001b[0m gs \u001b[38;5;241m=\u001b[39m \u001b[38;5;28mself\u001b[39m\u001b[38;5;241m.\u001b[39madd_gridspec(nrows, ncols, figure\u001b[38;5;241m=\u001b[39m\u001b[38;5;28mself\u001b[39m, \u001b[38;5;241m*\u001b[39m\u001b[38;5;241m*\u001b[39mgridspec_kw)\n\u001b[0;32m--> 861\u001b[0m axs \u001b[38;5;241m=\u001b[39m \u001b[43mgs\u001b[49m\u001b[38;5;241;43m.\u001b[39;49m\u001b[43msubplots\u001b[49m\u001b[43m(\u001b[49m\u001b[43msharex\u001b[49m\u001b[38;5;241;43m=\u001b[39;49m\u001b[43msharex\u001b[49m\u001b[43m,\u001b[49m\u001b[43m \u001b[49m\u001b[43msharey\u001b[49m\u001b[38;5;241;43m=\u001b[39;49m\u001b[43msharey\u001b[49m\u001b[43m,\u001b[49m\u001b[43m \u001b[49m\u001b[43msqueeze\u001b[49m\u001b[38;5;241;43m=\u001b[39;49m\u001b[43msqueeze\u001b[49m\u001b[43m,\u001b[49m\n\u001b[1;32m    862\u001b[0m \u001b[43m                  \u001b[49m\u001b[43msubplot_kw\u001b[49m\u001b[38;5;241;43m=\u001b[39;49m\u001b[43msubplot_kw\u001b[49m\u001b[43m)\u001b[49m\n\u001b[1;32m    863\u001b[0m \u001b[38;5;28;01mreturn\u001b[39;00m axs\n",
      "File \u001b[0;32m~/Desktop/PlotExtract/.plotextract/lib/python3.11/site-packages/matplotlib/gridspec.py:283\u001b[0m, in \u001b[0;36mGridSpecBase.subplots\u001b[0;34m(self, sharex, sharey, squeeze, subplot_kw)\u001b[0m\n\u001b[1;32m    281\u001b[0m         subplot_kw[\u001b[38;5;124m\"\u001b[39m\u001b[38;5;124msharex\u001b[39m\u001b[38;5;124m\"\u001b[39m] \u001b[38;5;241m=\u001b[39m shared_with[sharex]\n\u001b[1;32m    282\u001b[0m         subplot_kw[\u001b[38;5;124m\"\u001b[39m\u001b[38;5;124msharey\u001b[39m\u001b[38;5;124m\"\u001b[39m] \u001b[38;5;241m=\u001b[39m shared_with[sharey]\n\u001b[0;32m--> 283\u001b[0m         axarr[row, col] \u001b[38;5;241m=\u001b[39m \u001b[43mfigure\u001b[49m\u001b[38;5;241;43m.\u001b[39;49m\u001b[43madd_subplot\u001b[49m\u001b[43m(\u001b[49m\n\u001b[1;32m    284\u001b[0m \u001b[43m            \u001b[49m\u001b[38;5;28;43mself\u001b[39;49m\u001b[43m[\u001b[49m\u001b[43mrow\u001b[49m\u001b[43m,\u001b[49m\u001b[43m \u001b[49m\u001b[43mcol\u001b[49m\u001b[43m]\u001b[49m\u001b[43m,\u001b[49m\u001b[43m \u001b[49m\u001b[38;5;241;43m*\u001b[39;49m\u001b[38;5;241;43m*\u001b[39;49m\u001b[43msubplot_kw\u001b[49m\u001b[43m)\u001b[49m\n\u001b[1;32m    286\u001b[0m \u001b[38;5;66;03m# turn off redundant tick labeling\u001b[39;00m\n\u001b[1;32m    287\u001b[0m \u001b[38;5;28;01mif\u001b[39;00m sharex \u001b[38;5;129;01min\u001b[39;00m [\u001b[38;5;124m\"\u001b[39m\u001b[38;5;124mcol\u001b[39m\u001b[38;5;124m\"\u001b[39m, \u001b[38;5;124m\"\u001b[39m\u001b[38;5;124mall\u001b[39m\u001b[38;5;124m\"\u001b[39m]:\n",
      "File \u001b[0;32m~/Desktop/PlotExtract/.plotextract/lib/python3.11/site-packages/matplotlib/figure.py:710\u001b[0m, in \u001b[0;36mFigureBase.add_subplot\u001b[0;34m(self, *args, **kwargs)\u001b[0m\n\u001b[1;32m    708\u001b[0m         args \u001b[38;5;241m=\u001b[39m \u001b[38;5;28mtuple\u001b[39m(\u001b[38;5;28mmap\u001b[39m(\u001b[38;5;28mint\u001b[39m, \u001b[38;5;28mstr\u001b[39m(args[\u001b[38;5;241m0\u001b[39m])))\n\u001b[1;32m    709\u001b[0m     projection_class, pkw \u001b[38;5;241m=\u001b[39m \u001b[38;5;28mself\u001b[39m\u001b[38;5;241m.\u001b[39m_process_projection_requirements(\u001b[38;5;241m*\u001b[39m\u001b[38;5;241m*\u001b[39mkwargs)\n\u001b[0;32m--> 710\u001b[0m     ax \u001b[38;5;241m=\u001b[39m \u001b[43mprojection_class\u001b[49m\u001b[43m(\u001b[49m\u001b[38;5;28;43mself\u001b[39;49m\u001b[43m,\u001b[49m\u001b[43m \u001b[49m\u001b[38;5;241;43m*\u001b[39;49m\u001b[43margs\u001b[49m\u001b[43m,\u001b[49m\u001b[43m \u001b[49m\u001b[38;5;241;43m*\u001b[39;49m\u001b[38;5;241;43m*\u001b[39;49m\u001b[43mpkw\u001b[49m\u001b[43m)\u001b[49m\n\u001b[1;32m    711\u001b[0m     key \u001b[38;5;241m=\u001b[39m (projection_class, pkw)\n\u001b[1;32m    712\u001b[0m \u001b[38;5;28;01mreturn\u001b[39;00m \u001b[38;5;28mself\u001b[39m\u001b[38;5;241m.\u001b[39m_add_axes_internal(ax, key)\n",
      "File \u001b[0;32m~/Desktop/PlotExtract/.plotextract/lib/python3.11/site-packages/matplotlib/axes/_base.py:681\u001b[0m, in \u001b[0;36m_AxesBase.__init__\u001b[0;34m(self, fig, facecolor, frameon, sharex, sharey, label, xscale, yscale, box_aspect, forward_navigation_events, *args, **kwargs)\u001b[0m\n\u001b[1;32m    678\u001b[0m \u001b[38;5;28mself\u001b[39m\u001b[38;5;241m.\u001b[39mset_axisbelow(mpl\u001b[38;5;241m.\u001b[39mrcParams[\u001b[38;5;124m'\u001b[39m\u001b[38;5;124maxes.axisbelow\u001b[39m\u001b[38;5;124m'\u001b[39m])\n\u001b[1;32m    680\u001b[0m \u001b[38;5;28mself\u001b[39m\u001b[38;5;241m.\u001b[39m_rasterization_zorder \u001b[38;5;241m=\u001b[39m \u001b[38;5;28;01mNone\u001b[39;00m\n\u001b[0;32m--> 681\u001b[0m \u001b[38;5;28;43mself\u001b[39;49m\u001b[38;5;241;43m.\u001b[39;49m\u001b[43mclear\u001b[49m\u001b[43m(\u001b[49m\u001b[43m)\u001b[49m\n\u001b[1;32m    683\u001b[0m \u001b[38;5;66;03m# funcs used to format x and y - fall back on major formatters\u001b[39;00m\n\u001b[1;32m    684\u001b[0m \u001b[38;5;28mself\u001b[39m\u001b[38;5;241m.\u001b[39mfmt_xdata \u001b[38;5;241m=\u001b[39m \u001b[38;5;28;01mNone\u001b[39;00m\n",
      "File \u001b[0;32m~/Desktop/PlotExtract/.plotextract/lib/python3.11/site-packages/matplotlib/axes/_base.py:1391\u001b[0m, in \u001b[0;36m_AxesBase.clear\u001b[0;34m(self)\u001b[0m\n\u001b[1;32m   1389\u001b[0m     \u001b[38;5;28mself\u001b[39m\u001b[38;5;241m.\u001b[39mcla()\n\u001b[1;32m   1390\u001b[0m \u001b[38;5;28;01melse\u001b[39;00m:\n\u001b[0;32m-> 1391\u001b[0m     \u001b[38;5;28;43mself\u001b[39;49m\u001b[38;5;241;43m.\u001b[39;49m\u001b[43m__clear\u001b[49m\u001b[43m(\u001b[49m\u001b[43m)\u001b[49m\n",
      "File \u001b[0;32m~/Desktop/PlotExtract/.plotextract/lib/python3.11/site-packages/matplotlib/axes/_base.py:1307\u001b[0m, in \u001b[0;36m_AxesBase.__clear\u001b[0;34m(self)\u001b[0m\n\u001b[1;32m   1304\u001b[0m \u001b[38;5;28mself\u001b[39m\u001b[38;5;241m.\u001b[39mlegend_ \u001b[38;5;241m=\u001b[39m \u001b[38;5;28;01mNone\u001b[39;00m\n\u001b[1;32m   1305\u001b[0m \u001b[38;5;28mself\u001b[39m\u001b[38;5;241m.\u001b[39mcontainers \u001b[38;5;241m=\u001b[39m []\n\u001b[0;32m-> 1307\u001b[0m \u001b[38;5;28;43mself\u001b[39;49m\u001b[38;5;241;43m.\u001b[39;49m\u001b[43mgrid\u001b[49m\u001b[43m(\u001b[49m\u001b[38;5;28;43;01mFalse\u001b[39;49;00m\u001b[43m)\u001b[49m  \u001b[38;5;66;03m# Disable grid on init to use rcParameter\u001b[39;00m\n\u001b[1;32m   1308\u001b[0m \u001b[38;5;28mself\u001b[39m\u001b[38;5;241m.\u001b[39mgrid(\u001b[38;5;28mself\u001b[39m\u001b[38;5;241m.\u001b[39m_gridOn, which\u001b[38;5;241m=\u001b[39mmpl\u001b[38;5;241m.\u001b[39mrcParams[\u001b[38;5;124m'\u001b[39m\u001b[38;5;124maxes.grid.which\u001b[39m\u001b[38;5;124m'\u001b[39m],\n\u001b[1;32m   1309\u001b[0m           axis\u001b[38;5;241m=\u001b[39mmpl\u001b[38;5;241m.\u001b[39mrcParams[\u001b[38;5;124m'\u001b[39m\u001b[38;5;124maxes.grid.axis\u001b[39m\u001b[38;5;124m'\u001b[39m])\n\u001b[1;32m   1310\u001b[0m props \u001b[38;5;241m=\u001b[39m font_manager\u001b[38;5;241m.\u001b[39mFontProperties(\n\u001b[1;32m   1311\u001b[0m     size\u001b[38;5;241m=\u001b[39mmpl\u001b[38;5;241m.\u001b[39mrcParams[\u001b[38;5;124m'\u001b[39m\u001b[38;5;124maxes.titlesize\u001b[39m\u001b[38;5;124m'\u001b[39m],\n\u001b[1;32m   1312\u001b[0m     weight\u001b[38;5;241m=\u001b[39mmpl\u001b[38;5;241m.\u001b[39mrcParams[\u001b[38;5;124m'\u001b[39m\u001b[38;5;124maxes.titleweight\u001b[39m\u001b[38;5;124m'\u001b[39m])\n",
      "File \u001b[0;32m~/Desktop/PlotExtract/.plotextract/lib/python3.11/site-packages/matplotlib/axes/_base.py:3274\u001b[0m, in \u001b[0;36m_AxesBase.grid\u001b[0;34m(self, visible, which, axis, **kwargs)\u001b[0m\n\u001b[1;32m   3272\u001b[0m _api\u001b[38;5;241m.\u001b[39mcheck_in_list([\u001b[38;5;124m'\u001b[39m\u001b[38;5;124mx\u001b[39m\u001b[38;5;124m'\u001b[39m, \u001b[38;5;124m'\u001b[39m\u001b[38;5;124my\u001b[39m\u001b[38;5;124m'\u001b[39m, \u001b[38;5;124m'\u001b[39m\u001b[38;5;124mboth\u001b[39m\u001b[38;5;124m'\u001b[39m], axis\u001b[38;5;241m=\u001b[39maxis)\n\u001b[1;32m   3273\u001b[0m \u001b[38;5;28;01mif\u001b[39;00m axis \u001b[38;5;129;01min\u001b[39;00m [\u001b[38;5;124m'\u001b[39m\u001b[38;5;124mx\u001b[39m\u001b[38;5;124m'\u001b[39m, \u001b[38;5;124m'\u001b[39m\u001b[38;5;124mboth\u001b[39m\u001b[38;5;124m'\u001b[39m]:\n\u001b[0;32m-> 3274\u001b[0m     \u001b[38;5;28;43mself\u001b[39;49m\u001b[38;5;241;43m.\u001b[39;49m\u001b[43mxaxis\u001b[49m\u001b[38;5;241;43m.\u001b[39;49m\u001b[43mgrid\u001b[49m\u001b[43m(\u001b[49m\u001b[43mvisible\u001b[49m\u001b[43m,\u001b[49m\u001b[43m \u001b[49m\u001b[43mwhich\u001b[49m\u001b[38;5;241;43m=\u001b[39;49m\u001b[43mwhich\u001b[49m\u001b[43m,\u001b[49m\u001b[43m \u001b[49m\u001b[38;5;241;43m*\u001b[39;49m\u001b[38;5;241;43m*\u001b[39;49m\u001b[43mkwargs\u001b[49m\u001b[43m)\u001b[49m\n\u001b[1;32m   3275\u001b[0m \u001b[38;5;28;01mif\u001b[39;00m axis \u001b[38;5;129;01min\u001b[39;00m [\u001b[38;5;124m'\u001b[39m\u001b[38;5;124my\u001b[39m\u001b[38;5;124m'\u001b[39m, \u001b[38;5;124m'\u001b[39m\u001b[38;5;124mboth\u001b[39m\u001b[38;5;124m'\u001b[39m]:\n\u001b[1;32m   3276\u001b[0m     \u001b[38;5;28mself\u001b[39m\u001b[38;5;241m.\u001b[39myaxis\u001b[38;5;241m.\u001b[39mgrid(visible, which\u001b[38;5;241m=\u001b[39mwhich, \u001b[38;5;241m*\u001b[39m\u001b[38;5;241m*\u001b[39mkwargs)\n",
      "File \u001b[0;32m~/Desktop/PlotExtract/.plotextract/lib/python3.11/site-packages/matplotlib/axis.py:1732\u001b[0m, in \u001b[0;36mAxis.grid\u001b[0;34m(self, visible, which, **kwargs)\u001b[0m\n\u001b[1;32m   1729\u001b[0m \u001b[38;5;28;01mif\u001b[39;00m which \u001b[38;5;129;01min\u001b[39;00m [\u001b[38;5;124m'\u001b[39m\u001b[38;5;124mmajor\u001b[39m\u001b[38;5;124m'\u001b[39m, \u001b[38;5;124m'\u001b[39m\u001b[38;5;124mboth\u001b[39m\u001b[38;5;124m'\u001b[39m]:\n\u001b[1;32m   1730\u001b[0m     gridkw[\u001b[38;5;124m'\u001b[39m\u001b[38;5;124mgridOn\u001b[39m\u001b[38;5;124m'\u001b[39m] \u001b[38;5;241m=\u001b[39m (\u001b[38;5;129;01mnot\u001b[39;00m \u001b[38;5;28mself\u001b[39m\u001b[38;5;241m.\u001b[39m_major_tick_kw[\u001b[38;5;124m'\u001b[39m\u001b[38;5;124mgridOn\u001b[39m\u001b[38;5;124m'\u001b[39m]\n\u001b[1;32m   1731\u001b[0m                         \u001b[38;5;28;01mif\u001b[39;00m visible \u001b[38;5;129;01mis\u001b[39;00m \u001b[38;5;28;01mNone\u001b[39;00m \u001b[38;5;28;01melse\u001b[39;00m visible)\n\u001b[0;32m-> 1732\u001b[0m     \u001b[38;5;28;43mself\u001b[39;49m\u001b[38;5;241;43m.\u001b[39;49m\u001b[43mset_tick_params\u001b[49m\u001b[43m(\u001b[49m\u001b[43mwhich\u001b[49m\u001b[38;5;241;43m=\u001b[39;49m\u001b[38;5;124;43m'\u001b[39;49m\u001b[38;5;124;43mmajor\u001b[39;49m\u001b[38;5;124;43m'\u001b[39;49m\u001b[43m,\u001b[49m\u001b[43m \u001b[49m\u001b[38;5;241;43m*\u001b[39;49m\u001b[38;5;241;43m*\u001b[39;49m\u001b[43mgridkw\u001b[49m\u001b[43m)\u001b[49m\n\u001b[1;32m   1733\u001b[0m \u001b[38;5;28mself\u001b[39m\u001b[38;5;241m.\u001b[39mstale \u001b[38;5;241m=\u001b[39m \u001b[38;5;28;01mTrue\u001b[39;00m\n",
      "File \u001b[0;32m~/Desktop/PlotExtract/.plotextract/lib/python3.11/site-packages/matplotlib/axis.py:998\u001b[0m, in \u001b[0;36mAxis.set_tick_params\u001b[0;34m(self, which, reset, **kwargs)\u001b[0m\n\u001b[1;32m    996\u001b[0m \u001b[38;5;28;01mif\u001b[39;00m which \u001b[38;5;129;01min\u001b[39;00m [\u001b[38;5;124m'\u001b[39m\u001b[38;5;124mmajor\u001b[39m\u001b[38;5;124m'\u001b[39m, \u001b[38;5;124m'\u001b[39m\u001b[38;5;124mboth\u001b[39m\u001b[38;5;124m'\u001b[39m]:\n\u001b[1;32m    997\u001b[0m     \u001b[38;5;28mself\u001b[39m\u001b[38;5;241m.\u001b[39m_major_tick_kw\u001b[38;5;241m.\u001b[39mupdate(kwtrans)\n\u001b[0;32m--> 998\u001b[0m     \u001b[38;5;28;01mfor\u001b[39;00m tick \u001b[38;5;129;01min\u001b[39;00m \u001b[38;5;28;43mself\u001b[39;49m\u001b[38;5;241;43m.\u001b[39;49m\u001b[43mmajorTicks\u001b[49m:\n\u001b[1;32m    999\u001b[0m         tick\u001b[38;5;241m.\u001b[39m_apply_params(\u001b[38;5;241m*\u001b[39m\u001b[38;5;241m*\u001b[39mkwtrans)\n\u001b[1;32m   1000\u001b[0m \u001b[38;5;28;01mif\u001b[39;00m which \u001b[38;5;129;01min\u001b[39;00m [\u001b[38;5;124m'\u001b[39m\u001b[38;5;124mminor\u001b[39m\u001b[38;5;124m'\u001b[39m, \u001b[38;5;124m'\u001b[39m\u001b[38;5;124mboth\u001b[39m\u001b[38;5;124m'\u001b[39m]:\n",
      "File \u001b[0;32m~/Desktop/PlotExtract/.plotextract/lib/python3.11/site-packages/matplotlib/axis.py:571\u001b[0m, in \u001b[0;36m_LazyTickList.__get__\u001b[0;34m(self, instance, owner)\u001b[0m\n\u001b[1;32m    569\u001b[0m \u001b[38;5;28;01mif\u001b[39;00m \u001b[38;5;28mself\u001b[39m\u001b[38;5;241m.\u001b[39m_major:\n\u001b[1;32m    570\u001b[0m     instance\u001b[38;5;241m.\u001b[39mmajorTicks \u001b[38;5;241m=\u001b[39m []\n\u001b[0;32m--> 571\u001b[0m     tick \u001b[38;5;241m=\u001b[39m \u001b[43minstance\u001b[49m\u001b[38;5;241;43m.\u001b[39;49m\u001b[43m_get_tick\u001b[49m\u001b[43m(\u001b[49m\u001b[43mmajor\u001b[49m\u001b[38;5;241;43m=\u001b[39;49m\u001b[38;5;28;43;01mTrue\u001b[39;49;00m\u001b[43m)\u001b[49m\n\u001b[1;32m    572\u001b[0m     instance\u001b[38;5;241m.\u001b[39mmajorTicks\u001b[38;5;241m.\u001b[39mappend(tick)\n\u001b[1;32m    573\u001b[0m     \u001b[38;5;28;01mreturn\u001b[39;00m instance\u001b[38;5;241m.\u001b[39mmajorTicks\n",
      "File \u001b[0;32m~/Desktop/PlotExtract/.plotextract/lib/python3.11/site-packages/matplotlib/axis.py:1597\u001b[0m, in \u001b[0;36mAxis._get_tick\u001b[0;34m(self, major)\u001b[0m\n\u001b[1;32m   1593\u001b[0m     \u001b[38;5;28;01mraise\u001b[39;00m \u001b[38;5;167;01mNotImplementedError\u001b[39;00m(\n\u001b[1;32m   1594\u001b[0m         \u001b[38;5;124mf\u001b[39m\u001b[38;5;124m\"\u001b[39m\u001b[38;5;124mThe Axis subclass \u001b[39m\u001b[38;5;132;01m{\u001b[39;00m\u001b[38;5;28mself\u001b[39m\u001b[38;5;241m.\u001b[39m\u001b[38;5;18m__class__\u001b[39m\u001b[38;5;241m.\u001b[39m\u001b[38;5;18m__name__\u001b[39m\u001b[38;5;132;01m}\u001b[39;00m\u001b[38;5;124m must define \u001b[39m\u001b[38;5;124m\"\u001b[39m\n\u001b[1;32m   1595\u001b[0m         \u001b[38;5;124m\"\u001b[39m\u001b[38;5;124m_tick_class or reimplement _get_tick()\u001b[39m\u001b[38;5;124m\"\u001b[39m)\n\u001b[1;32m   1596\u001b[0m tick_kw \u001b[38;5;241m=\u001b[39m \u001b[38;5;28mself\u001b[39m\u001b[38;5;241m.\u001b[39m_major_tick_kw \u001b[38;5;28;01mif\u001b[39;00m major \u001b[38;5;28;01melse\u001b[39;00m \u001b[38;5;28mself\u001b[39m\u001b[38;5;241m.\u001b[39m_minor_tick_kw\n\u001b[0;32m-> 1597\u001b[0m \u001b[38;5;28;01mreturn\u001b[39;00m \u001b[38;5;28;43mself\u001b[39;49m\u001b[38;5;241;43m.\u001b[39;49m\u001b[43m_tick_class\u001b[49m\u001b[43m(\u001b[49m\u001b[38;5;28;43mself\u001b[39;49m\u001b[38;5;241;43m.\u001b[39;49m\u001b[43maxes\u001b[49m\u001b[43m,\u001b[49m\u001b[43m \u001b[49m\u001b[38;5;241;43m0\u001b[39;49m\u001b[43m,\u001b[49m\u001b[43m \u001b[49m\u001b[43mmajor\u001b[49m\u001b[38;5;241;43m=\u001b[39;49m\u001b[43mmajor\u001b[49m\u001b[43m,\u001b[49m\u001b[43m \u001b[49m\u001b[38;5;241;43m*\u001b[39;49m\u001b[38;5;241;43m*\u001b[39;49m\u001b[43mtick_kw\u001b[49m\u001b[43m)\u001b[49m\n",
      "File \u001b[0;32m~/Desktop/PlotExtract/.plotextract/lib/python3.11/site-packages/matplotlib/axis.py:398\u001b[0m, in \u001b[0;36mXTick.__init__\u001b[0;34m(self, *args, **kwargs)\u001b[0m\n\u001b[1;32m    397\u001b[0m \u001b[38;5;28;01mdef\u001b[39;00m \u001b[38;5;21m__init__\u001b[39m(\u001b[38;5;28mself\u001b[39m, \u001b[38;5;241m*\u001b[39margs, \u001b[38;5;241m*\u001b[39m\u001b[38;5;241m*\u001b[39mkwargs):\n\u001b[0;32m--> 398\u001b[0m     \u001b[38;5;28;43msuper\u001b[39;49m\u001b[43m(\u001b[49m\u001b[43m)\u001b[49m\u001b[38;5;241;43m.\u001b[39;49m\u001b[38;5;21;43m__init__\u001b[39;49m\u001b[43m(\u001b[49m\u001b[38;5;241;43m*\u001b[39;49m\u001b[43margs\u001b[49m\u001b[43m,\u001b[49m\u001b[43m \u001b[49m\u001b[38;5;241;43m*\u001b[39;49m\u001b[38;5;241;43m*\u001b[39;49m\u001b[43mkwargs\u001b[49m\u001b[43m)\u001b[49m\n\u001b[1;32m    399\u001b[0m     \u001b[38;5;66;03m# x in data coords, y in axes coords\u001b[39;00m\n\u001b[1;32m    400\u001b[0m     ax \u001b[38;5;241m=\u001b[39m \u001b[38;5;28mself\u001b[39m\u001b[38;5;241m.\u001b[39maxes\n",
      "File \u001b[0;32m~/Desktop/PlotExtract/.plotextract/lib/python3.11/site-packages/matplotlib/axis.py:165\u001b[0m, in \u001b[0;36mTick.__init__\u001b[0;34m(self, axes, loc, size, width, color, tickdir, pad, labelsize, labelcolor, labelfontfamily, zorder, gridOn, tick1On, tick2On, label1On, label2On, major, labelrotation, grid_color, grid_linestyle, grid_linewidth, grid_alpha, **kwargs)\u001b[0m\n\u001b[1;32m    158\u001b[0m grid_kw \u001b[38;5;241m=\u001b[39m {k[\u001b[38;5;241m5\u001b[39m:]: v \u001b[38;5;28;01mfor\u001b[39;00m k, v \u001b[38;5;129;01min\u001b[39;00m kwargs\u001b[38;5;241m.\u001b[39mitems()}\n\u001b[1;32m    160\u001b[0m \u001b[38;5;28mself\u001b[39m\u001b[38;5;241m.\u001b[39mtick1line \u001b[38;5;241m=\u001b[39m mlines\u001b[38;5;241m.\u001b[39mLine2D(\n\u001b[1;32m    161\u001b[0m     [], [],\n\u001b[1;32m    162\u001b[0m     color\u001b[38;5;241m=\u001b[39mcolor, linestyle\u001b[38;5;241m=\u001b[39m\u001b[38;5;124m\"\u001b[39m\u001b[38;5;124mnone\u001b[39m\u001b[38;5;124m\"\u001b[39m, zorder\u001b[38;5;241m=\u001b[39mzorder, visible\u001b[38;5;241m=\u001b[39mtick1On,\n\u001b[1;32m    163\u001b[0m     markeredgecolor\u001b[38;5;241m=\u001b[39mcolor, markersize\u001b[38;5;241m=\u001b[39msize, markeredgewidth\u001b[38;5;241m=\u001b[39mwidth,\n\u001b[1;32m    164\u001b[0m )\n\u001b[0;32m--> 165\u001b[0m \u001b[38;5;28mself\u001b[39m\u001b[38;5;241m.\u001b[39mtick2line \u001b[38;5;241m=\u001b[39m \u001b[43mmlines\u001b[49m\u001b[38;5;241;43m.\u001b[39;49m\u001b[43mLine2D\u001b[49m\u001b[43m(\u001b[49m\n\u001b[1;32m    166\u001b[0m \u001b[43m    \u001b[49m\u001b[43m[\u001b[49m\u001b[43m]\u001b[49m\u001b[43m,\u001b[49m\u001b[43m \u001b[49m\u001b[43m[\u001b[49m\u001b[43m]\u001b[49m\u001b[43m,\u001b[49m\n\u001b[1;32m    167\u001b[0m \u001b[43m    \u001b[49m\u001b[43mcolor\u001b[49m\u001b[38;5;241;43m=\u001b[39;49m\u001b[43mcolor\u001b[49m\u001b[43m,\u001b[49m\u001b[43m \u001b[49m\u001b[43mlinestyle\u001b[49m\u001b[38;5;241;43m=\u001b[39;49m\u001b[38;5;124;43m\"\u001b[39;49m\u001b[38;5;124;43mnone\u001b[39;49m\u001b[38;5;124;43m\"\u001b[39;49m\u001b[43m,\u001b[49m\u001b[43m \u001b[49m\u001b[43mzorder\u001b[49m\u001b[38;5;241;43m=\u001b[39;49m\u001b[43mzorder\u001b[49m\u001b[43m,\u001b[49m\u001b[43m \u001b[49m\u001b[43mvisible\u001b[49m\u001b[38;5;241;43m=\u001b[39;49m\u001b[43mtick2On\u001b[49m\u001b[43m,\u001b[49m\n\u001b[1;32m    168\u001b[0m \u001b[43m    \u001b[49m\u001b[43mmarkeredgecolor\u001b[49m\u001b[38;5;241;43m=\u001b[39;49m\u001b[43mcolor\u001b[49m\u001b[43m,\u001b[49m\u001b[43m \u001b[49m\u001b[43mmarkersize\u001b[49m\u001b[38;5;241;43m=\u001b[39;49m\u001b[43msize\u001b[49m\u001b[43m,\u001b[49m\u001b[43m \u001b[49m\u001b[43mmarkeredgewidth\u001b[49m\u001b[38;5;241;43m=\u001b[39;49m\u001b[43mwidth\u001b[49m\u001b[43m,\u001b[49m\n\u001b[1;32m    169\u001b[0m \u001b[43m\u001b[49m\u001b[43m)\u001b[49m\n\u001b[1;32m    170\u001b[0m \u001b[38;5;28mself\u001b[39m\u001b[38;5;241m.\u001b[39mgridline \u001b[38;5;241m=\u001b[39m mlines\u001b[38;5;241m.\u001b[39mLine2D(\n\u001b[1;32m    171\u001b[0m     [], [],\n\u001b[1;32m    172\u001b[0m     color\u001b[38;5;241m=\u001b[39mgrid_color, alpha\u001b[38;5;241m=\u001b[39mgrid_alpha, visible\u001b[38;5;241m=\u001b[39mgridOn,\n\u001b[1;32m    173\u001b[0m     linestyle\u001b[38;5;241m=\u001b[39mgrid_linestyle, linewidth\u001b[38;5;241m=\u001b[39mgrid_linewidth, marker\u001b[38;5;241m=\u001b[39m\u001b[38;5;124m\"\u001b[39m\u001b[38;5;124m\"\u001b[39m,\n\u001b[1;32m    174\u001b[0m     \u001b[38;5;241m*\u001b[39m\u001b[38;5;241m*\u001b[39mgrid_kw,\n\u001b[1;32m    175\u001b[0m )\n\u001b[1;32m    176\u001b[0m \u001b[38;5;28mself\u001b[39m\u001b[38;5;241m.\u001b[39mgridline\u001b[38;5;241m.\u001b[39mget_path()\u001b[38;5;241m.\u001b[39m_interpolation_steps \u001b[38;5;241m=\u001b[39m \\\n\u001b[1;32m    177\u001b[0m     GRIDLINE_INTERPOLATION_STEPS\n",
      "File \u001b[0;32m~/Desktop/PlotExtract/.plotextract/lib/python3.11/site-packages/matplotlib/lines.py:376\u001b[0m, in \u001b[0;36mLine2D.__init__\u001b[0;34m(self, xdata, ydata, linewidth, linestyle, color, gapcolor, marker, markersize, markeredgewidth, markeredgecolor, markerfacecolor, markerfacecoloralt, fillstyle, antialiased, dash_capstyle, solid_capstyle, dash_joinstyle, solid_joinstyle, pickradius, drawstyle, markevery, **kwargs)\u001b[0m\n\u001b[1;32m    373\u001b[0m \u001b[38;5;28mself\u001b[39m\u001b[38;5;241m.\u001b[39mset_drawstyle(drawstyle)\n\u001b[1;32m    375\u001b[0m \u001b[38;5;28mself\u001b[39m\u001b[38;5;241m.\u001b[39m_color \u001b[38;5;241m=\u001b[39m \u001b[38;5;28;01mNone\u001b[39;00m\n\u001b[0;32m--> 376\u001b[0m \u001b[38;5;28;43mself\u001b[39;49m\u001b[38;5;241;43m.\u001b[39;49m\u001b[43mset_color\u001b[49m\u001b[43m(\u001b[49m\u001b[43mcolor\u001b[49m\u001b[43m)\u001b[49m\n\u001b[1;32m    377\u001b[0m \u001b[38;5;28;01mif\u001b[39;00m marker \u001b[38;5;129;01mis\u001b[39;00m \u001b[38;5;28;01mNone\u001b[39;00m:\n\u001b[1;32m    378\u001b[0m     marker \u001b[38;5;241m=\u001b[39m \u001b[38;5;124m'\u001b[39m\u001b[38;5;124mnone\u001b[39m\u001b[38;5;124m'\u001b[39m  \u001b[38;5;66;03m# Default.\u001b[39;00m\n",
      "File \u001b[0;32m~/Desktop/PlotExtract/.plotextract/lib/python3.11/site-packages/matplotlib/lines.py:1066\u001b[0m, in \u001b[0;36mLine2D.set_color\u001b[0;34m(self, color)\u001b[0m\n\u001b[1;32m   1058\u001b[0m \u001b[38;5;28;01mdef\u001b[39;00m \u001b[38;5;21mset_color\u001b[39m(\u001b[38;5;28mself\u001b[39m, color):\n\u001b[1;32m   1059\u001b[0m \u001b[38;5;250m    \u001b[39m\u001b[38;5;124;03m\"\"\"\u001b[39;00m\n\u001b[1;32m   1060\u001b[0m \u001b[38;5;124;03m    Set the color of the line.\u001b[39;00m\n\u001b[1;32m   1061\u001b[0m \n\u001b[0;32m   (...)\u001b[0m\n\u001b[1;32m   1064\u001b[0m \u001b[38;5;124;03m    color : :mpltype:`color`\u001b[39;00m\n\u001b[1;32m   1065\u001b[0m \u001b[38;5;124;03m    \"\"\"\u001b[39;00m\n\u001b[0;32m-> 1066\u001b[0m     \u001b[43mmcolors\u001b[49m\u001b[38;5;241;43m.\u001b[39;49m\u001b[43m_check_color_like\u001b[49m\u001b[43m(\u001b[49m\u001b[43mcolor\u001b[49m\u001b[38;5;241;43m=\u001b[39;49m\u001b[43mcolor\u001b[49m\u001b[43m)\u001b[49m\n\u001b[1;32m   1067\u001b[0m     \u001b[38;5;28mself\u001b[39m\u001b[38;5;241m.\u001b[39m_color \u001b[38;5;241m=\u001b[39m color\n\u001b[1;32m   1068\u001b[0m     \u001b[38;5;28mself\u001b[39m\u001b[38;5;241m.\u001b[39mstale \u001b[38;5;241m=\u001b[39m \u001b[38;5;28;01mTrue\u001b[39;00m\n",
      "File \u001b[0;32m~/Desktop/PlotExtract/.plotextract/lib/python3.11/site-packages/matplotlib/colors.py:245\u001b[0m, in \u001b[0;36m_check_color_like\u001b[0;34m(**kwargs)\u001b[0m\n\u001b[1;32m    241\u001b[0m \u001b[38;5;250m\u001b[39m\u001b[38;5;124;03m\"\"\"\u001b[39;00m\n\u001b[1;32m    242\u001b[0m \u001b[38;5;124;03mFor each *key, value* pair in *kwargs*, check that *value* is color-like.\u001b[39;00m\n\u001b[1;32m    243\u001b[0m \u001b[38;5;124;03m\"\"\"\u001b[39;00m\n\u001b[1;32m    244\u001b[0m \u001b[38;5;28;01mfor\u001b[39;00m k, v \u001b[38;5;129;01min\u001b[39;00m kwargs\u001b[38;5;241m.\u001b[39mitems():\n\u001b[0;32m--> 245\u001b[0m     \u001b[38;5;28;01mif\u001b[39;00m \u001b[38;5;129;01mnot\u001b[39;00m \u001b[43mis_color_like\u001b[49m\u001b[43m(\u001b[49m\u001b[43mv\u001b[49m\u001b[43m)\u001b[49m:\n\u001b[1;32m    246\u001b[0m         \u001b[38;5;28;01mraise\u001b[39;00m \u001b[38;5;167;01mValueError\u001b[39;00m(\n\u001b[1;32m    247\u001b[0m             \u001b[38;5;124mf\u001b[39m\u001b[38;5;124m\"\u001b[39m\u001b[38;5;132;01m{\u001b[39;00mv\u001b[38;5;132;01m!r}\u001b[39;00m\u001b[38;5;124m is not a valid value for \u001b[39m\u001b[38;5;132;01m{\u001b[39;00mk\u001b[38;5;132;01m}\u001b[39;00m\u001b[38;5;124m: supported inputs are \u001b[39m\u001b[38;5;124m\"\u001b[39m\n\u001b[1;32m    248\u001b[0m             \u001b[38;5;124mf\u001b[39m\u001b[38;5;124m\"\u001b[39m\u001b[38;5;124m(r, g, b) and (r, g, b, a) 0-1 float tuples; \u001b[39m\u001b[38;5;124m\"\u001b[39m\n\u001b[0;32m   (...)\u001b[0m\n\u001b[1;32m    252\u001b[0m             \u001b[38;5;124mf\u001b[39m\u001b[38;5;124m\"\u001b[39m\u001b[38;5;124m'\u001b[39m\u001b[38;5;124mC0\u001b[39m\u001b[38;5;124m'\u001b[39m\u001b[38;5;124m, \u001b[39m\u001b[38;5;124m'\u001b[39m\u001b[38;5;124mC1\u001b[39m\u001b[38;5;124m'\u001b[39m\u001b[38;5;124m, ... strings for colors of the color cycle; \u001b[39m\u001b[38;5;124m\"\u001b[39m\n\u001b[1;32m    253\u001b[0m             \u001b[38;5;124mf\u001b[39m\u001b[38;5;124m\"\u001b[39m\u001b[38;5;124mand pairs combining one of the above with an alpha value\u001b[39m\u001b[38;5;124m\"\u001b[39m)\n",
      "File \u001b[0;32m~/Desktop/PlotExtract/.plotextract/lib/python3.11/site-packages/matplotlib/colors.py:227\u001b[0m, in \u001b[0;36mis_color_like\u001b[0;34m(c)\u001b[0m\n\u001b[1;32m    225\u001b[0m     \u001b[38;5;28;01mreturn\u001b[39;00m \u001b[38;5;28;01mTrue\u001b[39;00m\n\u001b[1;32m    226\u001b[0m \u001b[38;5;28;01mtry\u001b[39;00m:\n\u001b[0;32m--> 227\u001b[0m     \u001b[43mto_rgba\u001b[49m\u001b[43m(\u001b[49m\u001b[43mc\u001b[49m\u001b[43m)\u001b[49m\n\u001b[1;32m    228\u001b[0m \u001b[38;5;28;01mexcept\u001b[39;00m (\u001b[38;5;167;01mTypeError\u001b[39;00m, \u001b[38;5;167;01mValueError\u001b[39;00m):\n\u001b[1;32m    229\u001b[0m     \u001b[38;5;28;01mreturn\u001b[39;00m \u001b[38;5;28;01mFalse\u001b[39;00m\n",
      "File \u001b[0;32m~/Desktop/PlotExtract/.plotextract/lib/python3.11/site-packages/matplotlib/colors.py:305\u001b[0m, in \u001b[0;36mto_rgba\u001b[0;34m(c, alpha)\u001b[0m\n\u001b[1;32m    303\u001b[0m         c \u001b[38;5;241m=\u001b[39m c[\u001b[38;5;241m0\u001b[39m]\n\u001b[1;32m    304\u001b[0m \u001b[38;5;66;03m# Special-case nth color syntax because it should not be cached.\u001b[39;00m\n\u001b[0;32m--> 305\u001b[0m \u001b[38;5;28;01mif\u001b[39;00m \u001b[43m_is_nth_color\u001b[49m\u001b[43m(\u001b[49m\u001b[43mc\u001b[49m\u001b[43m)\u001b[49m:\n\u001b[1;32m    306\u001b[0m     prop_cycler \u001b[38;5;241m=\u001b[39m mpl\u001b[38;5;241m.\u001b[39mrcParams[\u001b[38;5;124m'\u001b[39m\u001b[38;5;124maxes.prop_cycle\u001b[39m\u001b[38;5;124m'\u001b[39m]\n\u001b[1;32m    307\u001b[0m     colors \u001b[38;5;241m=\u001b[39m prop_cycler\u001b[38;5;241m.\u001b[39mby_key()\u001b[38;5;241m.\u001b[39mget(\u001b[38;5;124m'\u001b[39m\u001b[38;5;124mcolor\u001b[39m\u001b[38;5;124m'\u001b[39m, [\u001b[38;5;124m'\u001b[39m\u001b[38;5;124mk\u001b[39m\u001b[38;5;124m'\u001b[39m])\n",
      "File \u001b[0;32m~/Desktop/PlotExtract/.plotextract/lib/python3.11/site-packages/matplotlib/colors.py:218\u001b[0m, in \u001b[0;36m_is_nth_color\u001b[0;34m(c)\u001b[0m\n\u001b[1;32m    216\u001b[0m \u001b[38;5;28;01mdef\u001b[39;00m \u001b[38;5;21m_is_nth_color\u001b[39m(c):\n\u001b[1;32m    217\u001b[0m \u001b[38;5;250m    \u001b[39m\u001b[38;5;124;03m\"\"\"Return whether *c* can be interpreted as an item in the color cycle.\"\"\"\u001b[39;00m\n\u001b[0;32m--> 218\u001b[0m     \u001b[38;5;28;01mreturn\u001b[39;00m \u001b[38;5;28misinstance\u001b[39m(c, \u001b[38;5;28mstr\u001b[39m) \u001b[38;5;129;01mand\u001b[39;00m \u001b[43m_nth_color_re\u001b[49m\u001b[38;5;241;43m.\u001b[39;49m\u001b[43mmatch\u001b[49m\u001b[43m(\u001b[49m\u001b[43mc\u001b[49m\u001b[43m)\u001b[49m\n",
      "\u001b[0;31mKeyboardInterrupt\u001b[0m: "
     ]
    },
    {
     "data": {
      "text/plain": [
       "<Figure size 60x60 with 0 Axes>"
      ]
     },
     "metadata": {},
     "output_type": "display_data"
    }
   ],
   "source": [
    "history = train_set.train(\n",
    "    model=crnn_model,\n",
    "    train_dataloader = train_loader,\n",
    "    val_dataloader = val_loader,\n",
    "    optimizer=optimizer,\n",
    "    loss_fn=loss_fn,\n",
    "    epochs=51,\n",
    "    output_freq=10\n",
    ")"
   ]
  },
  {
   "cell_type": "code",
   "execution_count": 649,
   "metadata": {},
   "outputs": [
    {
     "data": {
      "text/plain": [
       "[<matplotlib.lines.Line2D at 0xb61a0dd10>]"
      ]
     },
     "execution_count": 649,
     "metadata": {},
     "output_type": "execute_result"
    },
    {
     "data": {
      "image/png": "[encoded data removed]",
      "text/plain": [
       "<Figure size 640x480 with 1 Axes>"
      ]
     },
     "metadata": {},
     "output_type": "display_data"
    }
   ],
   "source": [
    "plt.plot(history[\"train_loss\"])\n",
    "plt.plot(history[\"validation_loss\"])\n",
    "plt.plot(history[\"train_acc\"])\n",
    "plt.plot(history[\"validation_acc\"])"
   ]
  },
  {
   "cell_type": "code",
   "execution_count": 653,
   "metadata": {},
   "outputs": [
    {
     "data": {
      "image/png": "[encoded data removed]",
      "text/plain": [
       "<Figure size 640x480 with 5 Axes>"
      ]
     },
     "metadata": {},
     "output_type": "display_data"
    }
   ],
   "source": [
    "for img, num in train_loader:\n",
    "    break\n",
    "\n",
    "output = crnn_model(img)\n",
    "\n",
    "predicted_digits = torch.argmax(output, dim=2)\n",
    "\n",
    "y_pred = [tuple(digits.tolist()) for digits in predicted_digits]\n",
    "\n",
    "_, ax = plt.subplots(1, 5)\n",
    "for n in range(5):\n",
    "    ax[n].imshow(img[n][0])\n",
    "    ax[n].set_title(f\"{y_pred[n][0]} {y_pred[n][1]}\")\n",
    "    ax[n].axis(\"off\")"
   ]
  },
  {
   "cell_type": "code",
   "execution_count": 655,
   "metadata": {},
   "outputs": [],
   "source": [
    "def test_predict(img):\n",
    "    img = np.expand_dims(img, axis=0)\n",
    "    img = np.expand_dims(img, axis=0)\n",
    "    img = torch.tensor(img)\n",
    "    output = crnn_model(img)\n",
    "    predicted_digits = torch.argmax(output, dim=2)\n",
    "    return predicted_digits\n",
    "\n",
    "def to_binary(img, bound: float=0.8):\n",
    "    img[img < bound] = 0\n",
    "    img[img > bound] = 1.0\n",
    "    return img"
   ]
  },
  {
   "cell_type": "code",
   "execution_count": 2628,
   "metadata": {},
   "outputs": [],
   "source": [
    "def croped_prep(croped):\n",
    "    # croped -= croped.min()\n",
    "    # croped *= -1\n",
    "    croped -= croped.min()\n",
    "    croped[croped > 0.4] = 1\n",
    "    croped[croped < 0.4] = 0\n",
    "    croped *= 255\n",
    "    return croped"
   ]
  },
  {
   "cell_type": "code",
   "execution_count": 657,
   "metadata": {},
   "outputs": [
    {
     "data": {
      "text/plain": [
       "<matplotlib.image.AxesImage at 0xb61d4a6d0>"
      ]
     },
     "execution_count": 657,
     "metadata": {},
     "output_type": "execute_result"
    },
    {
     "data": {
      "image/png": "[encoded data removed]",
      "text/plain": [
       "<Figure size 640x480 with 9 Axes>"
      ]
     },
     "metadata": {},
     "output_type": "display_data"
    }
   ],
   "source": [
    "# img_1 = np.copy(img)\n",
    "# img_1 = np.transpose(img_1, (1, 2, 0))\n",
    "delta = 15\n",
    "_, ax = plt.subplots(3, 3)\n",
    "for i in range(3):\n",
    "    for j in range(3):\n",
    "        frame = x_label[3*i + j]\n",
    "        croped = img_1[frame[1]-delta:frame[1]+delta, frame[0]-delta:frame[0]+delta, :]\n",
    "        croped = cv2.cvtColor(croped, cv2.COLOR_BGR2GRAY)\n",
    "        #croped = croped_prep(croped)\n",
    "        croped = to_binary(croped)\n",
    "        ax[i][j].imshow(croped)\n",
    "        ax[i][j].axis(\"off\")\n",
    "        y_pred = test_predict(croped).numpy().reshape(2)\n",
    "        ax[i][j].set_title(f\"{y_pred[0]}{y_pred[1]}\")\n",
    "ax[i][j].imshow(img[0][0].numpy())"
   ]
  },
  {
   "cell_type": "code",
   "execution_count": 2328,
   "metadata": {},
   "outputs": [
    {
     "data": {
      "image/png": "[encoded data removed]",
      "text/plain": [
       "<Figure size 640x480 with 2 Axes>"
      ]
     },
     "metadata": {},
     "output_type": "display_data"
    }
   ],
   "source": [
    "_, ax = plt.subplots(1, 2)\n",
    "ax[0].imshow(img[17][0].numpy())\n",
    "test_1 = img[17][0].numpy()\n",
    "ax[1].imshow(croped)\n",
    "test_2 = croped"
   ]
  },
  {
   "cell_type": "code",
   "execution_count": 2330,
   "metadata": {},
   "outputs": [
    {
     "data": {
      "text/plain": [
       "<matplotlib.image.AxesImage at 0x36c745250>"
      ]
     },
     "execution_count": 2330,
     "metadata": {},
     "output_type": "execute_result"
    },
    {
     "data": {
      "image/png": "[encoded data removed]",
      "text/plain": [
       "<Figure size 640x480 with 1 Axes>"
      ]
     },
     "metadata": {},
     "output_type": "display_data"
    }
   ],
   "source": [
    "plt.imshow(test_1 - test_2)"
   ]
  },
  {
   "cell_type": "markdown",
   "metadata": {},
   "source": [
    "# LongStoryShort"
   ]
  },
  {
   "cell_type": "code",
   "execution_count": 1705,
   "metadata": {},
   "outputs": [],
   "source": [
    "class GenerateSequenceDataset(Dataset):\n",
    "    def __init__(self, num_samples):\n",
    "        self.num_samples = num_samples\n",
    "\n",
    "    def __len__(self):\n",
    "        return self.num_samples\n",
    "\n",
    "    def _create_sequence_img(self, numbers,\n",
    "                             dpi_s: int = 30,\n",
    "                             font_s: int = 54):\n",
    "        # Create a figure and axis to generate the image\n",
    "        fig, ax = plt.subplots(figsize=(3, 3), dpi=dpi_s)\n",
    "        ax.axis('off')\n",
    "        \n",
    "        # Plot the sequence of numbers with equal spacing\n",
    "        for i, num in enumerate(numbers):\n",
    "            x_pos = (i / (len(numbers) - 1)) * 10\n",
    "            # ax.text(x_pos, 0.5, f'{num:.1f}', fontsize=font_s, ha='center', va='center')\n",
    "            ax.text(x_pos, 0.5, f'{num}', fontsize=font_s, ha='center', va='center')\n",
    "        \n",
    "        # Save the plot to a buffer\n",
    "        buf = BytesIO()\n",
    "        plt.savefig(buf, format='png', bbox_inches='tight', pad_inches=0)\n",
    "        buf.seek(0)\n",
    "        plt.close(fig)\n",
    "        \n",
    "        # Convert the buffer to an image\n",
    "        img = Image.open(buf)\n",
    "        img = img.convert('L')  # Convert to grayscale\n",
    "        img = np.array(img)\n",
    "        \n",
    "        # Resize to 250x30 pixels\n",
    "        img = cv2.resize(img, (250, 20), interpolation=cv2.INTER_AREA) / 255\n",
    "        \n",
    "        return img\n",
    "\n",
    "    def _encode_number(self, num):\n",
    "        sign = 1 if num >= 0 else 0\n",
    "        abs_num = abs(num)\n",
    "        decimal_of_ten = abs_num // 10\n",
    "        rest = abs_num % 10\n",
    "        return [sign, int(decimal_of_ten), int(rest)]\n",
    "\n",
    "    def to_binary(self, img, bound: float=0.8):\n",
    "        img[img < bound] = 0\n",
    "        img[img > bound] = 1.0\n",
    "        return img\n",
    "\n",
    "    def __getitem__(self, idx):\n",
    "        # Generate a symmetric sequence around 0\n",
    "        interval = np.random.choice([i for i in range(2, 49)])\n",
    "        numbers = [-2 * interval, -1 * interval, 0, 1 * interval, 2 * interval]\n",
    "        # Create the image with the sequence of numbers\n",
    "        font_s = random.randint(70, 87)\n",
    "        dpi_s = random.randint(55, 65)\n",
    "        img = self._create_sequence_img(numbers, font_s=font_s, dpi_s=dpi_s)\n",
    "        \n",
    "        # Encode the first and last numbers\n",
    "        first_label = self._encode_number(numbers[0])\n",
    "        last_label = self._encode_number(numbers[-1])\n",
    "        \n",
    "        # Combine the labels\n",
    "        label = first_label + last_label\n",
    "        \n",
    "        # Expand dimensions to match the required input format (1, 30, 250)\n",
    "        img = np.expand_dims(img, axis=0)\n",
    "        img = self.to_binary(img)\n",
    "        return torch.tensor(img, dtype=torch.float32), torch.tensor(label)\n",
    "\n",
    "def create_dataloader(num_samples: int = 32,\n",
    "                      batch_size: int = 32,\n",
    "                      shuffle: bool = False):\n",
    "    dataset = GenerateSequenceDataset(num_samples=num_samples)\n",
    "    return DataLoader(dataset, batch_size=batch_size, shuffle=shuffle)  \n",
    "\n",
    "\n",
    "dataset = GenerateSequenceDataset(num_samples=10)"
   ]
  },
  {
   "cell_type": "code",
   "execution_count": 1707,
   "metadata": {},
   "outputs": [
    {
     "data": {
      "text/plain": [
       "<matplotlib.image.AxesImage at 0x695765610>"
      ]
     },
     "execution_count": 1707,
     "metadata": {},
     "output_type": "execute_result"
    },
    {
     "data": {
      "image/png": "[encoded data removed]",
      "text/plain": [
       "<Figure size 1000x300 with 2 Axes>"
      ]
     },
     "metadata": {},
     "output_type": "display_data"
    }
   ],
   "source": [
    "for img, label in dataset:\n",
    "    break\n",
    "_, ax = plt.subplots(2, 1, figsize=(10, 3))\n",
    "ax[0].imshow(to_binary(original_img)[270:290,30:280])\n",
    "ax[1].imshow(torch.squeeze(img, dim=0))"
   ]
  },
  {
   "cell_type": "code",
   "execution_count": 76,
   "metadata": {},
   "outputs": [
    {
     "name": "stdout",
     "output_type": "stream",
     "text": [
      "tensor([0, 9, 0, 1, 9, 0])\n"
     ]
    },
    {
     "data": {
      "image/png": "[encoded data removed]",
      "text/plain": [
       "<Figure size 640x480 with 1 Axes>"
      ]
     },
     "metadata": {},
     "output_type": "display_data"
    }
   ],
   "source": [
    "class GenerateSequenceDataset(Dataset):\n",
    "    def __init__(self, num_samples, transform=None, tolerance=50, img_size=128, fig_size=5):\n",
    "        self.num_samples = num_samples\n",
    "        self.transform = transform\n",
    "        self.tolerance = tolerance\n",
    "        self.img_size = (img_size, img_size)\n",
    "        self.fig_size = (fig_size, fig_size)\n",
    "\n",
    "    def __len__(self):\n",
    "        return self.num_samples\n",
    "\n",
    "    def _encode_number(self, num):\n",
    "        sign = 1 if num >= 0 else 0\n",
    "        abs_num = abs(num)\n",
    "        decimal_of_ten = abs_num // 10\n",
    "        rest = abs_num % 10\n",
    "        return [sign, int(decimal_of_ten), int(rest)]\n",
    "\n",
    "    def __getitem__(self, idx):\n",
    "        fig, ax = plt.subplots(figsize=self.fig_size, dpi=300)\n",
    "        interval = np.random.choice([i for i in range(2, 49)])\n",
    "        x = [-2 * interval, -1 * interval, 0, 1 * interval, 2 * interval]\n",
    "        ax.set_xticks(x)\n",
    "        x_labels = [int(item.get_text().replace('−', '-')) for item in ax.get_xticklabels()]\n",
    "        axes_color = [0.0, 0.0, 0.0]\n",
    "        coef = np.random.uniform(-8, 8, 3)\n",
    "        y = np.poly1d(coef)\n",
    "        line_color1 = [0, 0, 1]\n",
    "        ax.plot(x, y(x), color=line_color1)\n",
    "        ax.spines['top'].set_visible(False)\n",
    "        ax.spines['right'].set_visible(False)\n",
    "        fig.canvas.draw()\n",
    "        image = np.array(fig.canvas.renderer.buffer_rgba())\n",
    "        plt.close(fig)\n",
    "        image = image[:, :, :3]\n",
    "        image = torch.from_numpy(image).permute(2, 0, 1).float() / 255.0\n",
    "        image = F.interpolate(image.unsqueeze(0),\n",
    "                              size=self.img_size,\n",
    "                              mode='bilinear',\n",
    "                              align_corners=False).squeeze(0)\n",
    "        # Encode the first and last numbers\n",
    "        first_label = self._encode_number(x[0])\n",
    "        last_label = self._encode_number(x[-1])\n",
    "        label = first_label + last_label\n",
    "        image = np.expand_dims(image[2, 118:, :], axis=0)\n",
    "        return torch.tensor(image,\n",
    "                            dtype=torch.float32), torch.tensor(label)\n",
    "\n",
    "dataset = GenerateSequenceDataset(num_samples=10, img_size=128, fig_size=2)\n",
    "\n",
    "for img, lable in dataset:\n",
    "    break\n",
    "\n",
    "plt.imshow(img[0])\n",
    "print(lable)"
   ]
  },
  {
   "cell_type": "code",
   "execution_count": 2107,
   "metadata": {},
   "outputs": [],
   "source": [
    "number_dict = {\"train\": 2600, \"validation\": 256, \"test\": 32}\n",
    "\n",
    "for mode in \"train validation test\".split():\n",
    "    num_img = number_dict[mode]\n",
    "    dataset = GenerateSequenceDataset(num_samples=10, img_size=128, fig_size=2)\n",
    "    df = {}\n",
    "    for i, (img, lable) in enumerate(dataset):\n",
    "        df[i] = lable.numpy()\n",
    "        np.save(f\"./data/numbers/{mode}/{i}.npy\", img[0].numpy())\n",
    "        if i == num_img:\n",
    "            break\n",
    "    df = pd.DataFrame(df).T\n",
    "    df.to_csv(f\"./data/numbers/{mode}/labels.csv\")"
   ]
  },
  {
   "cell_type": "code",
   "execution_count": 34,
   "metadata": {},
   "outputs": [
    {
     "data": {
      "text/plain": [
       "torch.Size([1, 6, 10])"
      ]
     },
     "execution_count": 34,
     "metadata": {},
     "output_type": "execute_result"
    }
   ],
   "source": [
    "class CRNN(nn.Module):\n",
    "\n",
    "    def __init__(self, num_classes=10):\n",
    "        super(CRNN, self).__init__()\n",
    "        self.num_classes = num_classes\n",
    "        self.cnn = nn.Sequential(\n",
    "            nn.Conv2d(1, 32, kernel_size=3, stride=1, padding=1),\n",
    "            nn.ReLU(),\n",
    "            nn.MaxPool2d(2, 2),\n",
    "            nn.Conv2d(32, 32, kernel_size=3, stride=1, padding=1),\n",
    "            nn.ReLU(),            \n",
    "            nn.Conv2d(32, 64, kernel_size=3, stride=1, padding=1),\n",
    "            nn.ReLU(),\n",
    "            nn.MaxPool2d(2, 2)\n",
    "        )\n",
    "        self.rnn = nn.LSTM(input_size=64, hidden_size=128,\n",
    "                           num_layers=2, bidirectional=True,\n",
    "                           batch_first=True)\n",
    "        self.fc = nn.Linear(128 * 2, num_classes * 6) \n",
    "\n",
    "    def forward(self, x):\n",
    "        x = self.cnn(x)\n",
    "        x = x.view(x.size(0), -1, 64)\n",
    "        x, _ = self.rnn(x)\n",
    "        x = x[:, -1, :]\n",
    "        x = self.fc(x)\n",
    "        x = x.view(-1, 6, self.num_classes)\n",
    "        return x\n",
    "\n",
    "crnn_model = CRNN(num_classes=10)\n",
    "random_input = torch.rand(1, 1, 10, 250)\n",
    "crnn_model(random_input).shape"
   ]
  },
  {
   "cell_type": "code",
   "execution_count": 2029,
   "metadata": {},
   "outputs": [],
   "source": [
    "train_loader = create_dataloader(num_samples = 2600, batch_size=32, shuffle=True)\n",
    "val_loader = create_dataloader(num_samples = 128, batch_size=16, shuffle=True)"
   ]
  },
  {
   "cell_type": "code",
   "execution_count": 2005,
   "metadata": {},
   "outputs": [],
   "source": [
    "optimizer = torch.optim.Adam(params=crnn_model.parameters(),\n",
    "                             lr=3e-4)\n",
    "loss_fn = torch.nn.CrossEntropyLoss()"
   ]
  },
  {
   "cell_type": "code",
   "execution_count": 2041,
   "metadata": {},
   "outputs": [],
   "source": [
    "DEVICE = \"cpu\"\n",
    "\n",
    "class Trainer:\n",
    "\n",
    "    def __init__(self, device: str = \"mps\") -> None:\n",
    "        self.device = device\n",
    "        pass\n",
    "\n",
    "    def train_step(self,\n",
    "                   model: torch.nn.Module,\n",
    "                   dataloader: torch.utils.data.DataLoader,\n",
    "                   loss_fn: torch.nn.Module,\n",
    "                   optimizer: torch.optim.Optimizer\n",
    "                   ):\n",
    "        model.train()\n",
    "        train_loss = 0\n",
    "        correct_predictions = 0\n",
    "        total_predictions = 0\n",
    "        for X,y in dataloader:\n",
    "            X = X.to(self.device)\n",
    "            y = y.to(self.device)\n",
    "            optimizer.zero_grad()\n",
    "            y_pred = model(X)\n",
    "            loss = loss_fn(y_pred.view(-1, num_classes), y.view(-1))\n",
    "            loss.backward()\n",
    "            optimizer.step()\n",
    "            train_loss += loss.item()\n",
    "            y_pred = torch.argmax(y_pred, dim=2)\n",
    "            correct_predictions += (y_pred == y).sum().item()\n",
    "            total_predictions += y.numel()\n",
    "        avg_train_loss = train_loss / len(dataloader)\n",
    "        avg_train_accuracy = correct_predictions / total_predictions\n",
    "        return avg_train_loss, avg_train_accuracy\n",
    "\n",
    "    def val_step(self,\n",
    "                 model: torch.nn.Module,\n",
    "                 dataloader: torch.utils.data.DataLoader,\n",
    "                 loss_fn: torch.nn.Module\n",
    "                 ):\n",
    "        model.eval()\n",
    "        test_loss = 0\n",
    "        correct_predictions = 0\n",
    "        total_predictions = 0\n",
    "        with torch.inference_mode():\n",
    "            for X,y in dataloader:\n",
    "                X = X.to(self.device)\n",
    "                y = y.to(self.device)\n",
    "                y_pred = model(X)\n",
    "                loss = loss_fn(y_pred.view(-1, num_classes), y.view(-1))\n",
    "                test_loss += loss.item()\n",
    "                y_pred = torch.argmax(y_pred, dim=2)\n",
    "                correct_predictions += (y_pred == y).sum().item()\n",
    "                total_predictions += y.numel()\n",
    "            avg_train_loss = test_loss / len(dataloader)\n",
    "            avg_train_accuracy = correct_predictions / total_predictions\n",
    "        return avg_train_loss, avg_train_accuracy\n",
    "\n",
    "    def train(self,\n",
    "              model: torch.nn.Module,\n",
    "              train_dataloader: torch.utils.data.DataLoader,\n",
    "              val_dataloader: torch.utils.data.DataLoader,\n",
    "              optimizer: torch.optim.Optimizer,\n",
    "              loss_fn: torch.nn.Module,\n",
    "              epochs: int=100,\n",
    "              output_freq: int=5):\n",
    "        model = model.to(self.device)\n",
    "        results = {\"train_loss\": [],\n",
    "                \"train_acc\": [],\n",
    "                \"validation_loss\": [],\n",
    "                \"validation_acc\": []\n",
    "                }\n",
    "        for epoch in tqdm.tqdm(range(epochs)):\n",
    "            train_loss, train_acc = self.train_step(model=model,\n",
    "                                                    dataloader=train_dataloader,\n",
    "                                                    loss_fn=loss_fn,\n",
    "                                                    optimizer=optimizer,\n",
    "                                                    )\n",
    "            test_loss, test_acc = self.val_step(model=model,\n",
    "                                                dataloader=val_dataloader,\n",
    "                                                loss_fn=loss_fn,\n",
    "                                                )\n",
    "            if epoch%output_freq==0:\n",
    "                print(\n",
    "                f\"Epoch: {epoch+1} | \"\n",
    "                f\"train_loss: {train_loss:.4f} | \"\n",
    "                f\"validation_loss: {test_loss:.4f} | \"\n",
    "                f\"train_acc: {train_acc:.4f} | \"\n",
    "                f\"validation_acc: {test_acc:.4f}\"\n",
    "                )\n",
    "            results[\"train_loss\"].append(train_loss)\n",
    "            results[\"validation_loss\"].append(test_loss)\n",
    "            results[\"train_acc\"].append(train_acc)\n",
    "            results[\"validation_acc\"].append(test_acc)\n",
    "        return results\n",
    "\n",
    "train_set = Trainer(device=DEVICE)"
   ]
  },
  {
   "cell_type": "code",
   "execution_count": null,
   "metadata": {
    "scrolled": true
   },
   "outputs": [],
   "source": [
    "history = train_set.train(\n",
    "    model=crnn_model,\n",
    "    train_dataloader = train_loader,\n",
    "    val_dataloader = val_loader,\n",
    "    optimizer=optimizer,\n",
    "    loss_fn=loss_fn,\n",
    "    epochs=2,\n",
    "    output_freq=1\n",
    ")"
   ]
  },
  {
   "cell_type": "code",
   "execution_count": 58,
   "metadata": {},
   "outputs": [
    {
     "name": "stdout",
     "output_type": "stream",
     "text": [
      "Models is loaded from:  09-02-21-39.pth\n"
     ]
    }
   ],
   "source": [
    "def load_model(model: torch.nn.Module, file_name: str):\n",
    "    assert os.path.exists(file_name), \"No weights were found\"\n",
    "    state_dict = torch.load(file_name, weights_only=True)\n",
    "    model.load_state_dict(state_dict)\n",
    "    print(\"Models is loaded from: \", file_name)\n",
    "    return model\n",
    "\n",
    "crnn_model = load_model(crnn_model, \"09-02-21-39.pth\")"
   ]
  },
  {
   "cell_type": "code",
   "execution_count": 20,
   "metadata": {},
   "outputs": [],
   "source": [
    "from data.loader import create_numbers_loader, create_plots_loader"
   ]
  },
  {
   "cell_type": "code",
   "execution_count": 78,
   "metadata": {},
   "outputs": [
    {
     "name": "stdout",
     "output_type": "stream",
     "text": [
      "16\n",
      "16\n"
     ]
    }
   ],
   "source": [
    "number_loader = create_numbers_loader(mode=\"validation\", num_samples=16,\n",
    "                                      batch_size=16, shuffle=True)\n",
    "plots_loader = create_plots_loader(mode=\"validation\", num_samples=16,\n",
    "                                   batch_size=16, shuffle=True)\n",
    "%matplotlib inline\n",
    "for num_img, label in number_loader:\n",
    "    break\n",
    "for plot_img, mask in plots_loader:\n",
    "    break"
   ]
  },
  {
   "cell_type": "code",
   "execution_count": 80,
   "metadata": {},
   "outputs": [
    {
     "data": {
      "image/png": "[encoded data removed]",
      "text/plain": [
       "<Figure size 800x200 with 2 Axes>"
      ]
     },
     "metadata": {},
     "output_type": "display_data"
    }
   ],
   "source": [
    "_, ax = plt.subplots(2, 1, figsize=(8, 2))\n",
    "ax[0].imshow(plot_img[0][0][118:])\n",
    "ax[1].imshow(num_img[0][0])\n",
    "plt.show()"
   ]
  },
  {
   "cell_type": "code",
   "execution_count": 82,
   "metadata": {},
   "outputs": [
    {
     "data": {
      "text/plain": [
       "torch.Size([1, 1, 10, 128])"
      ]
     },
     "execution_count": 82,
     "metadata": {},
     "output_type": "execute_result"
    }
   ],
   "source": [
    "test_img.shape"
   ]
  },
  {
   "cell_type": "code",
   "execution_count": 84,
   "metadata": {},
   "outputs": [
    {
     "name": "stdout",
     "output_type": "stream",
     "text": [
      "tensor([[0, 0, 2, 1, 0, 2]])\n"
     ]
    },
    {
     "data": {
      "text/plain": [
       "<matplotlib.image.AxesImage at 0x3204e63d0>"
      ]
     },
     "execution_count": 84,
     "metadata": {},
     "output_type": "execute_result"
    },
    {
     "data": {
      "image/png": "[encoded data removed]",
      "text/plain": [
       "<Figure size 640x480 with 1 Axes>"
      ]
     },
     "metadata": {},
     "output_type": "display_data"
    }
   ],
   "source": [
    "test_img = plot_img[0:1, 0:1, 118:]\n",
    "res = crnn_model(test_img)\n",
    "res = torch.argmax(res, dim=2)\n",
    "print(res)\n",
    "plt.imshow(test_img[0][0])"
   ]
  },
  {
   "cell_type": "code",
   "execution_count": 74,
   "metadata": {},
   "outputs": [
    {
     "name": "stdout",
     "output_type": "stream",
     "text": [
      "tensor([[0, 0, 6, 1, 0, 6],\n",
      "        [0, 2, 0, 1, 2, 0],\n",
      "        [0, 1, 0, 1, 1, 0],\n",
      "        [0, 1, 8, 1, 1, 8],\n",
      "        [0, 1, 0, 1, 1, 0],\n",
      "        [0, 0, 4, 1, 0, 4],\n",
      "        [0, 2, 0, 1, 2, 0],\n",
      "        [0, 1, 6, 1, 1, 6],\n",
      "        [0, 1, 4, 1, 1, 4],\n",
      "        [0, 0, 4, 1, 0, 4],\n",
      "        [0, 0, 8, 1, 0, 8],\n",
      "        [0, 2, 2, 1, 2, 2],\n",
      "        [0, 1, 4, 1, 1, 4],\n",
      "        [0, 1, 4, 1, 1, 4],\n",
      "        [0, 2, 2, 1, 2, 2],\n",
      "        [0, 0, 2, 1, 0, 2]])\n"
     ]
    },
    {
     "data": {
      "text/plain": [
       "<matplotlib.image.AxesImage at 0x34c51d010>"
      ]
     },
     "execution_count": 74,
     "metadata": {},
     "output_type": "execute_result"
    },
    {
     "data": {
      "image/png": "[encoded data removed]",
      "text/plain": [
       "<Figure size 640x480 with 1 Axes>"
      ]
     },
     "metadata": {},
     "output_type": "display_data"
    }
   ],
   "source": [
    "res = crnn_model(num_img)\n",
    "res = torch.argmax(res, dim=2)\n",
    "print(res)\n",
    "plt.imshow(num_img[-1][0])"
   ]
  },
  {
   "cell_type": "code",
   "execution_count": 86,
   "metadata": {},
   "outputs": [
    {
     "name": "stdout",
     "output_type": "stream",
     "text": [
      "tensor([[0, 0, 2, 1, 0, 2]])\n"
     ]
    },
    {
     "data": {
      "text/plain": [
       "<matplotlib.image.AxesImage at 0x321e2e310>"
      ]
     },
     "execution_count": 86,
     "metadata": {},
     "output_type": "execute_result"
    },
    {
     "data": {
      "image/png": "[encoded data removed]",
      "text/plain": [
       "<Figure size 640x480 with 1 Axes>"
      ]
     },
     "metadata": {},
     "output_type": "display_data"
    }
   ],
   "source": [
    "res = crnn_model(test_img)\n",
    "res = torch.argmax(res, dim=2)\n",
    "print(res)\n",
    "plt.imshow(test_img[0][0])"
   ]
  },
  {
   "cell_type": "code",
   "execution_count": null,
   "metadata": {},
   "outputs": [],
   "source": [
    "plt.imshow(test_img[0][0])"
   ]
  }
 ],
 "metadata": {
  "kernelspec": {
   "display_name": "plotextract",
   "language": "python",
   "name": "plotextract"
  },
  "language_info": {
   "codemirror_mode": {
    "name": "ipython",
    "version": 3
   },
   "file_extension": ".py",
   "mimetype": "text/x-python",
   "name": "python",
   "nbconvert_exporter": "python",
   "pygments_lexer": "ipython3",
   "version": "3.11.1"
  }
 },
 "nbformat": 4,
 "nbformat_minor": 4
}
