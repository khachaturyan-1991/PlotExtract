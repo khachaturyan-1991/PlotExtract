{
 "cells": [
  {
   "cell_type": "code",
   "execution_count": 1,
   "metadata": {},
   "outputs": [],
   "source": [
    "import numpy as np\n",
    "import matplotlib.pyplot as plt\n",
    "\n",
    "import torch\n",
    "from torch.utils.data import Dataset, DataLoader\n",
    "from torchvision import transforms\n",
    "\n",
    "import seaborn\n",
    "import cv2\n",
    "\n",
    "from PIL import Image"
   ]
  },
  {
   "cell_type": "markdown",
   "metadata": {},
   "source": [
    "# Data"
   ]
  },
  {
   "cell_type": "markdown",
   "metadata": {},
   "source": [
    "generate plots with corresponding masks"
   ]
  },
  {
   "cell_type": "code",
   "execution_count": 336,
   "metadata": {},
   "outputs": [],
   "source": [
    "class PlotDataset(Dataset):\n",
    "    def __init__(self, num_samples, transform=None, tolerance=5):\n",
    "        self.num_samples = num_samples\n",
    "        self.transform = transform\n",
    "        self.tolerance = tolerance\n",
    "\n",
    "    def __len__(self):\n",
    "        return self.num_samples\n",
    "\n",
    "    def __getitem__(self, idx):\n",
    "        # Generate random coefficients\n",
    "        a1, a2 = np.random.uniform(-10, 10, 2)\n",
    "        a3, a4, a5 = np.random.uniform(-1, 1, 3)\n",
    "        \n",
    "        # Generate x values\n",
    "        x = np.linspace(-10, 10, 100)\n",
    "        \n",
    "        # Generate y values for linear and parabolic functions\n",
    "        y_linear = a1 * x + a2\n",
    "        y_parabolic = a3 * x**2 + a4 * x + a5\n",
    "        \n",
    "        # Create figure\n",
    "        fig, ax = plt.subplots(figsize=(32, 32))\n",
    "        ax.set_xlim(-10, 10)\n",
    "        ax.set_ylim(-100, 100)\n",
    "        \n",
    "        # Plot the linear function\n",
    "        line_color = np.random.rand(3,)\n",
    "        ax.plot(x, y_linear, color=line_color)\n",
    "        \n",
    "        # Plot the parabolic function\n",
    "        parab_color = np.random.rand(3,)\n",
    "        ax.plot(x, y_parabolic, color=parab_color)\n",
    "        \n",
    "        # Save plot as image\n",
    "        fig.canvas.draw()\n",
    "        image = np.array(fig.canvas.renderer.buffer_rgba())\n",
    "        plt.close(fig)\n",
    "        \n",
    "        # Convert RGBA to RGB\n",
    "        image = image[:, :, :3]\n",
    "        \n",
    "        # Create mask\n",
    "        mask = np.zeros(image.shape[:2], dtype=np.uint8)\n",
    "        \n",
    "        # Draw axes on mask (Assuming axes are black lines)\n",
    "        mask[image[:, :, 0] == 0] = 1\n",
    "        \n",
    "        # Define a helper function for color matching with tolerance\n",
    "        def within_tolerance(img, color, tol):\n",
    "            return np.all(np.abs(img - np.array(color) * 255) <= tol, axis=-1)\n",
    "        \n",
    "        # Add linear function to mask\n",
    "        mask[within_tolerance(image, line_color, self.tolerance)] = 2\n",
    "        \n",
    "        # Add parabolic function to mask\n",
    "        mask[within_tolerance(image, parab_color, self.tolerance)] = 3\n",
    "        \n",
    "        # Apply transformations to image\n",
    "        if self.transform:\n",
    "            image = self.transform(image)\n",
    "        \n",
    "        # Convert mask to tensor manually to avoid scaling\n",
    "        mask = torch.tensor(mask, dtype=torch.long)\n",
    "        \n",
    "        return image, mask\n",
    "\n",
    "# Define transformations for the image\n",
    "transform = transforms.Compose([\n",
    "    transforms.ToTensor(),\n",
    "])\n",
    "\n",
    "# Create dataset and dataloader\n",
    "dataset = PlotDataset(num_samples=1000, transform=transform)\n",
    "dataloader = DataLoader(dataset, batch_size=32, shuffle=True)"
   ]
  },
  {
   "cell_type": "code",
   "execution_count": 337,
   "metadata": {},
   "outputs": [
    {
     "name": "stdout",
     "output_type": "stream",
     "text": [
      "torch.Size([32, 3, 3200, 3200]) torch.Size([32, 3200, 3200])\n"
     ]
    },
    {
     "name": "stderr",
     "output_type": "stream",
     "text": [
      "/var/folders/yt/vsz4v53j4bv674jbw4t304p80000gn/T/ipykernel_22286/3856567545.py:24: UserWarning: FigureCanvasAgg is non-interactive, and thus cannot be shown\n",
      "  plt.show()\n"
     ]
    }
   ],
   "source": [
    "# Example usage\n",
    "for images, masks in dataloader:\n",
    "    print(images.shape, masks.shape)\n",
    "    break\n",
    "\n",
    "fig, axes = plt.subplots(4, 6, figsize=(9, 5))\n",
    "axes = axes.ravel()\n",
    "\n",
    "for i in range(6):\n",
    "    axes[i].imshow(images[i].permute(1,2,0))\n",
    "    axes[i].axis(\"off\")\n",
    "    axes[i+6].imshow(masks[i])\n",
    "    axes[i+6].axis(\"off\")\n",
    "    axes[i + 6].set_title(f\"{np.unique(masks[i])}\")\n",
    "\n",
    "for i in range(6):\n",
    "    axes[i + 12].imshow(images[i + 6].permute(1,2,0))\n",
    "    axes[i + 12].axis(\"off\")\n",
    "    axes[i + 18].imshow(masks[i + 6])\n",
    "    axes[i + 18].axis(\"off\")\n",
    "    axes[i + 18].set_title(f\"{np.unique(masks[i + 6])}\")\n",
    "\n",
    "plt.tight_layout()\n",
    "plt.show()"
   ]
  },
  {
   "cell_type": "markdown",
   "metadata": {},
   "source": [
    "# Unet"
   ]
  },
  {
   "cell_type": "code",
   "execution_count": 224,
   "metadata": {},
   "outputs": [
    {
     "data": {
      "text/plain": [
       "==========================================================================================\n",
       "Layer (type:depth-idx)                   Output Shape              Param #\n",
       "==========================================================================================\n",
       "UNet                                     [1, 1, 128, 128]          --\n",
       "├─ModuleDict: 1-1                        --                        --\n",
       "│    └─DownBlock: 2-1                    [1, 64, 64, 64]           --\n",
       "│    │    └─Conv2d: 3-1                  [1, 64, 128, 128]         640\n",
       "│    │    └─BatchNorm2d: 3-2             [1, 64, 128, 128]         128\n",
       "│    │    └─ReLU: 3-3                    [1, 64, 128, 128]         --\n",
       "│    │    └─Conv2d: 3-4                  [1, 64, 128, 128]         36,928\n",
       "│    │    └─BatchNorm2d: 3-5             [1, 64, 128, 128]         128\n",
       "│    │    └─ReLU: 3-6                    [1, 64, 128, 128]         --\n",
       "│    │    └─MaxPool2d: 3-7               [1, 64, 64, 64]           --\n",
       "│    └─DownBlock: 2-2                    [1, 128, 32, 32]          --\n",
       "│    │    └─Conv2d: 3-8                  [1, 128, 64, 64]          73,856\n",
       "│    │    └─BatchNorm2d: 3-9             [1, 128, 64, 64]          256\n",
       "│    │    └─ReLU: 3-10                   [1, 128, 64, 64]          --\n",
       "│    │    └─Conv2d: 3-11                 [1, 128, 64, 64]          147,584\n",
       "│    │    └─BatchNorm2d: 3-12            [1, 128, 64, 64]          256\n",
       "│    │    └─ReLU: 3-13                   [1, 128, 64, 64]          --\n",
       "│    │    └─MaxPool2d: 3-14              [1, 128, 32, 32]          --\n",
       "│    └─DownBlock: 2-3                    [1, 256, 16, 16]          --\n",
       "│    │    └─Conv2d: 3-15                 [1, 256, 32, 32]          295,168\n",
       "│    │    └─BatchNorm2d: 3-16            [1, 256, 32, 32]          512\n",
       "│    │    └─ReLU: 3-17                   [1, 256, 32, 32]          --\n",
       "│    │    └─Conv2d: 3-18                 [1, 256, 32, 32]          590,080\n",
       "│    │    └─BatchNorm2d: 3-19            [1, 256, 32, 32]          512\n",
       "│    │    └─ReLU: 3-20                   [1, 256, 32, 32]          --\n",
       "│    │    └─MaxPool2d: 3-21              [1, 256, 16, 16]          --\n",
       "├─ModuleDict: 1-2                        --                        --\n",
       "│    └─UpperBlock: 2-4                   [1, 128, 32, 32]          --\n",
       "│    │    └─ConvTranspose2d: 3-22        [1, 128, 16, 16]          295,040\n",
       "│    └─UpperBlock: 2-5                   [1, 64, 64, 64]           --\n",
       "│    │    └─ConvTranspose2d: 3-23        [1, 64, 32, 32]           73,792\n",
       "│    └─UpperBlock: 2-6                   [1, 1, 128, 128]          --\n",
       "│    │    └─ConvTranspose2d: 3-24        [1, 1, 64, 64]            577\n",
       "==========================================================================================\n",
       "Total params: 1,515,457\n",
       "Trainable params: 1,515,457\n",
       "Non-trainable params: 0\n",
       "Total mult-adds (Units.GIGABYTES): 2.58\n",
       "==========================================================================================\n",
       "Input size (MB): 0.07\n",
       "Forward/backward pass size (MB): 59.54\n",
       "Params size (MB): 6.06\n",
       "Estimated Total Size (MB): 65.67\n",
       "=========================================================================================="
      ]
     },
     "execution_count": 224,
     "metadata": {},
     "output_type": "execute_result"
    }
   ],
   "source": [
    "from torch.functional import F\n",
    "from torch import nn\n",
    "from torchinfo import summary\n",
    "\n",
    "CONV_KERNEL = (3, 3)\n",
    "POOL_KERNEL = (2, 2)\n",
    "STRIDE_SIZE = (1, 1)\n",
    "PADDING_TYPE = 1\n",
    "\n",
    "class DownBlock(nn.Module):\n",
    "\n",
    "    def __init__(self,\n",
    "                 in_channels,\n",
    "                 out_channels, **kwargs):\n",
    "        super(DownBlock, self).__init__(**kwargs)\n",
    "\n",
    "        self.conv_1 = nn.Conv2d(in_channels=in_channels,\n",
    "                                out_channels=out_channels,\n",
    "                                kernel_size=CONV_KERNEL,\n",
    "                                padding=PADDING_TYPE)\n",
    "        self.conv_2 = nn.Conv2d(in_channels=out_channels,\n",
    "                                out_channels=out_channels,\n",
    "                                kernel_size=CONV_KERNEL,\n",
    "                                padding=PADDING_TYPE)\n",
    "        self.batch_1 = nn.BatchNorm2d(num_features=out_channels)\n",
    "        self.batch_2 = nn.BatchNorm2d(num_features=out_channels)\n",
    "        self.relu = nn.ReLU()\n",
    "        self.maxpool = nn.MaxPool2d(kernel_size=POOL_KERNEL)\n",
    "\n",
    "    def forward(self, x):\n",
    "        x = self.conv_1(x)\n",
    "        x = self.batch_1(x)\n",
    "        x = self.relu(x)\n",
    "        x = self.conv_2(x)\n",
    "        x = self.batch_2(x)\n",
    "        x = self.relu(x)\n",
    "        x = self.maxpool(x)\n",
    "        return x\n",
    "\n",
    "def UpperBlockCustom(ConvTranspose, in_channels, out_channels):\n",
    "    class UpperBlock(nn.Module):\n",
    "        def __init__(self, in_channels: int, out_channels: int, **kwargs):\n",
    "            super(UpperBlock, self).__init__(**kwargs)\n",
    "            self.convT = ConvTranspose(in_channels=in_channels,\n",
    "                                       out_channels=out_channels,\n",
    "                                       kernel_size=CONV_KERNEL,\n",
    "                                       stride=STRIDE_SIZE,\n",
    "                                       padding=PADDING_TYPE)\n",
    "\n",
    "        def forward(self, x, w=None):\n",
    "            if w is not None:\n",
    "                x = self.convT(x, w)\n",
    "            else:\n",
    "                x = self.convT(x)\n",
    "            s = x.shape[2:]\n",
    "            x = F.interpolate(x,\n",
    "                              size=(s[0] * 2, s[1] * 2),\n",
    "                              mode='bilinear',\n",
    "                              align_corners=False)\n",
    "            return x\n",
    "\n",
    "    return UpperBlock(in_channels, out_channels)\n",
    "\n",
    "n = 6\n",
    "class UNet(nn.Module):\n",
    "\n",
    "    def __init__(self, depth: int = 3, **kwargs):\n",
    "        super(UNet, self).__init__(**kwargs)\n",
    "        self.depth = depth\n",
    "        self.down_blocks = nn.ModuleDict()\n",
    "        self.down_blocks[str(0)] = DownBlock(in_channels=1,\n",
    "                                        out_channels=64)\n",
    "        n_feat = 64\n",
    "        for i in range(1, depth):\n",
    "            self.down_blocks[str(i)] = DownBlock(in_channels=n_feat,\n",
    "                                            out_channels=2 * n_feat)\n",
    "            n_feat *= 2\n",
    "\n",
    "        self.up_block = nn.ModuleDict()\n",
    "        self.up_block[str(0)] = UpperBlockCustom(nn.ConvTranspose2d,\n",
    "                                            64, 1)\n",
    "        n_feat = 64 * (2 ** (depth - 1)) // 2\n",
    "        for i in range(1, depth):\n",
    "            self.up_block[str(depth-i)] = UpperBlockCustom(nn.ConvTranspose2d,\n",
    "                                                  2 * n_feat, n_feat)\n",
    "            n_feat //= 2\n",
    "\n",
    "    def forward(self, x):\n",
    "        x = self.down_blocks[str(0)](x)\n",
    "        for i in range(1, self.depth):\n",
    "            x = self.down_blocks[str(i)](x)\n",
    "        for i in range(1, self.depth):\n",
    "            x = self.up_block[str(self.depth - i)](x)\n",
    "        x = self.up_block[str(0)](x)\n",
    "        return x\n",
    "\n",
    "model = UNet(depth=3)\n",
    "summary(model, input_size=(1, 1, 128, 128))"
   ]
  },
  {
   "cell_type": "code",
   "execution_count": 233,
   "metadata": {},
   "outputs": [
    {
     "data": {
      "text/plain": [
       "torch.Size([32, 128, 128])"
      ]
     },
     "execution_count": 233,
     "metadata": {},
     "output_type": "execute_result"
    }
   ],
   "source": [
    "target = torch.randint(0, 2, (32, 128, 128))\n",
    "target.shape"
   ]
  },
  {
   "cell_type": "code",
   "execution_count": 255,
   "metadata": {},
   "outputs": [
    {
     "name": "stdout",
     "output_type": "stream",
     "text": [
      "Loss: 1.2364288568496704\n"
     ]
    }
   ],
   "source": [
    "import torch\n",
    "import torch.nn as nn\n",
    "import torch.nn.functional as F\n",
    "\n",
    "# Define the Dice Loss for multi-class segmentation\n",
    "class DiceLoss(nn.Module):\n",
    "    def __init__(self, num_classes, smooth=1):\n",
    "        super(DiceLoss, self).__init__()\n",
    "        self.num_classes = num_classes\n",
    "        self.smooth = smooth\n",
    "\n",
    "    def forward(self, logits, targets):\n",
    "        # Apply softmax to get probabilities\n",
    "        logits = F.softmax(logits, dim=1)\n",
    "        \n",
    "        # One-hot encode the targets\n",
    "        targets_one_hot = F.one_hot(targets, num_classes=self.num_classes).permute(0, 3, 1, 2).float()\n",
    "        \n",
    "        # Compute Dice loss\n",
    "        intersection = (logits * targets_one_hot).sum(dim=(2, 3))\n",
    "        union = logits.sum(dim=(2, 3)) + targets_one_hot.sum(dim=(2, 3))\n",
    "        dice = (2. * intersection + self.smooth) / (union + self.smooth)\n",
    "        \n",
    "        return 1 - dice.mean()\n",
    "\n",
    "# Define the Combined Loss function\n",
    "class CombinedLoss(nn.Module):\n",
    "    def __init__(self, num_classes, alpha=0.5):\n",
    "        super(CombinedLoss, self).__init__()\n",
    "        self.dice_loss = DiceLoss(num_classes)\n",
    "        self.ce_loss = nn.CrossEntropyLoss()\n",
    "        self.alpha = alpha\n",
    "\n",
    "    def forward(self, logits, targets):\n",
    "        dice = self.dice_loss(logits, targets)\n",
    "        ce = self.ce_loss(logits, targets)\n",
    "        return self.alpha * ce + (1 - self.alpha) * dice\n",
    "\n",
    "# Dummy model output and target for demonstration\n",
    "num_classes = 4  # For example, background, axes, linear plot, parabolic plot\n",
    "output = torch.randn(32, num_classes, 128, 128)  # Model output logits\n",
    "target = torch.randint(0, num_classes, (32, 128, 128))  # Ground truth mask\n",
    "\n",
    "# Ensure target is a LongTensor containing class indices\n",
    "target = target.long()\n",
    "\n",
    "# Initialize the combined loss function\n",
    "criterion = CombinedLoss(num_classes)\n",
    "\n",
    "# Compute the loss\n",
    "loss = criterion(output, target)\n",
    "print(f\"Loss: {loss.item()}\")"
   ]
  },
  {
   "cell_type": "markdown",
   "metadata": {},
   "source": [
    "# Test"
   ]
  },
  {
   "cell_type": "code",
   "execution_count": 261,
   "metadata": {},
   "outputs": [],
   "source": [
    "from models_zoo.unet import UNet\n",
    "from data.data import create_dataloader\n",
    "from utils import plot_hystory, parse_arguments, count_torch_parameters"
   ]
  },
  {
   "cell_type": "code",
   "execution_count": 262,
   "metadata": {},
   "outputs": [],
   "source": [
    "BATCH_SIZE = 4\n",
    "IMG_SIZE = 128"
   ]
  },
  {
   "cell_type": "code",
   "execution_count": 263,
   "metadata": {},
   "outputs": [
    {
     "name": "stdout",
     "output_type": "stream",
     "text": [
      "Trainable parameters: 1703139\n",
      "Non-trainable parameters: 0\n",
      "Trainable weights (Mb): 6.812556\n",
      "Non-trainable weights (Mb): 0.0\n"
     ]
    }
   ],
   "source": [
    "test_dataloader = create_dataloader(num_samples=32, batch_size=BATCH_SIZE, shuffle=False, img_size=IMG_SIZE)\n",
    "\n",
    "model = UNet()\n",
    "summary(model, input_size=(1, 3, 128, 128))\n",
    "count_torch_parameters(model)"
   ]
  },
  {
   "cell_type": "code",
   "execution_count": 310,
   "metadata": {},
   "outputs": [
    {
     "data": {
      "text/plain": [
       "(torch.Size([4, 3, 128, 128]), torch.Size([4, 128, 128]))"
      ]
     },
     "execution_count": 310,
     "metadata": {},
     "output_type": "execute_result"
    }
   ],
   "source": [
    "for X, mask in test_dataloader:\n",
    "    pred = model(X)\n",
    "    break\n",
    "\n",
    "pred.shape, mask.shape"
   ]
  },
  {
   "cell_type": "markdown",
   "metadata": {},
   "source": [
    "# npy images"
   ]
  },
  {
   "cell_type": "code",
   "execution_count": 169,
   "metadata": {},
   "outputs": [],
   "source": [
    "for i in range(128):\n",
    "    img = np.load(f'./data/test/image/{i}.npy')\n",
    "    mask = np.load(f'./data/test/mask/{i}.npy')\n",
    "\n",
    "    fig, axes = plt.subplots(1, 2, figsize=(9, 5))\n",
    "    axes[0].imshow(np.transpose(img, (1,2,0)))\n",
    "    axes[1].imshow(mask)\n",
    "    axes[1].set_title(np.unique(mask))\n",
    "    plt.savefig(f\"./data/test_dataset/{i}.png\")\n",
    "    plt.close(fig)"
   ]
  },
  {
   "cell_type": "code",
   "execution_count": 233,
   "metadata": {},
   "outputs": [
    {
     "name": "stdout",
     "output_type": "stream",
     "text": [
      "----> [0. 1.]\n"
     ]
    },
    {
     "data": {
      "text/plain": [
       "Text(0.5, 1.0, '[0 1 2]')"
      ]
     },
     "execution_count": 233,
     "metadata": {},
     "output_type": "execute_result"
    },
    {
     "data": {
      "image/png": "[encoded data removed]",
      "text/plain": [
       "<Figure size 900x500 with 3 Axes>"
      ]
     },
     "metadata": {},
     "output_type": "display_data"
    }
   ],
   "source": [
    "i = 0\n",
    "img = np.load(f'./data/train/image/{i}.npy')\n",
    "mask = np.load(f'./data/train/mask/{i}.npy')\n",
    "_, thresh = cv2.threshold(img, 0.7, 1, cv2.THRESH_BINARY)\n",
    "print(\"---->\", np.unique(thresh))\n",
    "\n",
    "fig, axes = plt.subplots(1, 3, figsize=(9, 5))\n",
    "axes[0].imshow(np.transpose(img, (1,2,0)))\n",
    "axes[1].imshow(np.transpose(thresh, (1,2,0)))\n",
    "axes[2].imshow(mask)\n",
    "axes[2].set_title(np.unique(mask))"
   ]
  },
  {
   "cell_type": "code",
   "execution_count": 226,
   "metadata": {},
   "outputs": [],
   "source": [
    "def to_edge(img):\n",
    "    img = img.astype(np.uint8)\n",
    "    edges = cv2.Canny(img, threshold1=50, threshold2=150)\n",
    "    return edges\n",
    "\n",
    "def preprocess_image(i):\n",
    "    image = np.load(f\"./data/train/image/{i}.npy\") * 255\n",
    "    for i in range(3):\n",
    "        image[i] = to_edge(image[i])\n",
    "    return image / 255.\n",
    "\n",
    "edged = preprocess_image(1)"
   ]
  },
  {
   "cell_type": "code",
   "execution_count": 231,
   "metadata": {},
   "outputs": [
    {
     "name": "stdout",
     "output_type": "stream",
     "text": [
      "[0. 1.]\n"
     ]
    },
    {
     "data": {
      "image/png": "[encoded data removed]",
      "text/plain": [
       "<Figure size 640x480 with 1 Axes>"
      ]
     },
     "metadata": {},
     "output_type": "display_data"
    }
   ],
   "source": [
    "plt.imshow(np.transpose(edged, (1,2,0)))\n",
    "print(np.unique(edged))"
   ]
  },
  {
   "cell_type": "code",
   "execution_count": 228,
   "metadata": {},
   "outputs": [
    {
     "data": {
      "text/plain": [
       "<seaborn.axisgrid.FacetGrid at 0x32011c490>"
      ]
     },
     "execution_count": 228,
     "metadata": {},
     "output_type": "execute_result"
    },
    {
     "data": {
      "image/png": "[encoded data removed]",
      "text/plain": [
       "<Figure size 500x500 with 1 Axes>"
      ]
     },
     "metadata": {},
     "output_type": "display_data"
    }
   ],
   "source": [
    "sns.displot(edged.reshape(-1))"
   ]
  },
  {
   "cell_type": "code",
   "execution_count": null,
   "metadata": {},
   "outputs": [],
   "source": []
  }
 ],
 "metadata": {
  "kernelspec": {
   "display_name": ".plotextract",
   "language": "python",
   "name": "python3"
  },
  "language_info": {
   "codemirror_mode": {
    "name": "ipython",
    "version": 3
   },
   "file_extension": ".py",
   "mimetype": "text/x-python",
   "name": "python",
   "nbconvert_exporter": "python",
   "pygments_lexer": "ipython3",
   "version": "3.11.1"
  }
 },
 "nbformat": 4,
 "nbformat_minor": 2
}
